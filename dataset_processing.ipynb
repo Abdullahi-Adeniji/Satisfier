{
 "cells": [
  {
   "cell_type": "markdown",
   "metadata": {},
   "source": [
    "### Dataset creation and processing"
   ]
  },
  {
   "cell_type": "code",
   "execution_count": 1,
   "metadata": {},
   "outputs": [
    {
     "data": {
      "text/html": [
       "<div>\n",
       "<style scoped>\n",
       "    .dataframe tbody tr th:only-of-type {\n",
       "        vertical-align: middle;\n",
       "    }\n",
       "\n",
       "    .dataframe tbody tr th {\n",
       "        vertical-align: top;\n",
       "    }\n",
       "\n",
       "    .dataframe thead th {\n",
       "        text-align: right;\n",
       "    }\n",
       "</style>\n",
       "<table border=\"1\" class=\"dataframe\">\n",
       "  <thead>\n",
       "    <tr style=\"text-align: right;\">\n",
       "      <th></th>\n",
       "      <th>Unnamed: 0</th>\n",
       "      <th>Name</th>\n",
       "      <th>Unnamed: 0.1</th>\n",
       "      <th>Unnamed: 0.1.1</th>\n",
       "      <th>Unnamed: 0.1.1.1</th>\n",
       "      <th>Unnamed: 0.1.1.1.1</th>\n",
       "      <th>Unnamed: 0.1.1.1.1.1</th>\n",
       "      <th>Unnamed: 0.1.1.1.1.1.1</th>\n",
       "      <th>Unnamed: 0.1.1.1.1.1.1.1</th>\n",
       "      <th>Unnamed: 0.1.1.1.1.1.1.1.1</th>\n",
       "      <th>...</th>\n",
       "      <th>Unnamed: 0.1.1.1.1.1.1.1.1.1.1.1.1.1.1.1.1</th>\n",
       "      <th>Unnamed: 0.1.1.1.1.1.1.1.1.1.1.1.1.1.1.1.1.1</th>\n",
       "      <th>Unnamed: 0.1.1.1.1.1.1.1.1.1.1.1.1.1.1.1.1.1.1</th>\n",
       "      <th>Unnamed: 0.1.1.1.1.1.1.1.1.1.1.1.1.1.1.1.1.1.1.1</th>\n",
       "      <th>Unnamed: 0.1.1.1.1.1.1.1.1.1.1.1.1.1.1.1.1.1.1.1.1</th>\n",
       "      <th>Unnamed: 0.1.1.1.1.1.1.1.1.1.1.1.1.1.1.1.1.1.1.1.1.1</th>\n",
       "      <th>Unnamed: 0.1.1.1.1.1.1.1.1.1.1.1.1.1.1.1.1.1.1.1.1.1.1</th>\n",
       "      <th>catagory</th>\n",
       "      <th>description</th>\n",
       "      <th>sub_catagory</th>\n",
       "    </tr>\n",
       "  </thead>\n",
       "  <tbody>\n",
       "    <tr>\n",
       "      <th>0</th>\n",
       "      <td>0</td>\n",
       "      <td>Summer Squash Salad</td>\n",
       "      <td>0.0</td>\n",
       "      <td>0.0</td>\n",
       "      <td>0.0</td>\n",
       "      <td>0.0</td>\n",
       "      <td>0.0</td>\n",
       "      <td>0.0</td>\n",
       "      <td>0.0</td>\n",
       "      <td>0.0</td>\n",
       "      <td>...</td>\n",
       "      <td>0.0</td>\n",
       "      <td>0.0</td>\n",
       "      <td>0.0</td>\n",
       "      <td>0.0</td>\n",
       "      <td>0.0</td>\n",
       "      <td>0.0</td>\n",
       "      <td>0.0</td>\n",
       "      <td>NaN</td>\n",
       "      <td>Key Ingredients: white balsamic vinegar, lemon...</td>\n",
       "      <td>healthy</td>\n",
       "    </tr>\n",
       "  </tbody>\n",
       "</table>\n",
       "<p>1 rows × 27 columns</p>\n",
       "</div>"
      ],
      "text/plain": [
       "   Unnamed: 0                  Name  Unnamed: 0.1  Unnamed: 0.1.1  \\\n",
       "0           0  Summer Squash Salad            0.0             0.0   \n",
       "\n",
       "   Unnamed: 0.1.1.1  Unnamed: 0.1.1.1.1  Unnamed: 0.1.1.1.1.1  \\\n",
       "0               0.0                 0.0                   0.0   \n",
       "\n",
       "   Unnamed: 0.1.1.1.1.1.1  Unnamed: 0.1.1.1.1.1.1.1  \\\n",
       "0                     0.0                       0.0   \n",
       "\n",
       "   Unnamed: 0.1.1.1.1.1.1.1.1  ...  \\\n",
       "0                         0.0  ...   \n",
       "\n",
       "   Unnamed: 0.1.1.1.1.1.1.1.1.1.1.1.1.1.1.1.1  \\\n",
       "0                                         0.0   \n",
       "\n",
       "   Unnamed: 0.1.1.1.1.1.1.1.1.1.1.1.1.1.1.1.1.1  \\\n",
       "0                                           0.0   \n",
       "\n",
       "   Unnamed: 0.1.1.1.1.1.1.1.1.1.1.1.1.1.1.1.1.1.1  \\\n",
       "0                                             0.0   \n",
       "\n",
       "   Unnamed: 0.1.1.1.1.1.1.1.1.1.1.1.1.1.1.1.1.1.1.1  \\\n",
       "0                                               0.0   \n",
       "\n",
       "   Unnamed: 0.1.1.1.1.1.1.1.1.1.1.1.1.1.1.1.1.1.1.1.1  \\\n",
       "0                                                0.0    \n",
       "\n",
       "   Unnamed: 0.1.1.1.1.1.1.1.1.1.1.1.1.1.1.1.1.1.1.1.1.1  \\\n",
       "0                                                0.0      \n",
       "\n",
       "   Unnamed: 0.1.1.1.1.1.1.1.1.1.1.1.1.1.1.1.1.1.1.1.1.1.1  catagory  \\\n",
       "0                                                0.0            NaN   \n",
       "\n",
       "                                         description  sub_catagory  \n",
       "0  Key Ingredients: white balsamic vinegar, lemon...       healthy  \n",
       "\n",
       "[1 rows x 27 columns]"
      ]
     },
     "execution_count": 1,
     "metadata": {},
     "output_type": "execute_result"
    }
   ],
   "source": [
    "from bs4 import BeautifulSoup\n",
    "import requests\n",
    "import pandas as pd \n",
    "import numpy as np\n",
    "import warnings\n",
    "import time\n",
    "import seaborn as sns\n",
    "import matplotlib.pyplot as plt\n",
    "import random\n",
    "\n",
    "df = pd.read_csv('data.csv')\n",
    "df.head(1)"
   ]
  },
  {
   "cell_type": "markdown",
   "metadata": {},
   "source": [
    "### Basic cleaning"
   ]
  },
  {
   "cell_type": "markdown",
   "metadata": {},
   "source": [
    "Removing duplicate columns"
   ]
  },
  {
   "cell_type": "code",
   "execution_count": 2,
   "metadata": {},
   "outputs": [],
   "source": [
    "l = ['Name','catagory','description','sub_catagory']\n",
    "drop = []\n",
    "columns = list(df.columns)\n",
    "for col in columns:\n",
    "    if col not in l:\n",
    "        drop.append(col)\n",
    "if drop!=[]:\n",
    "    df = df.drop(drop,axis=1)\n"
   ]
  },
  {
   "cell_type": "markdown",
   "metadata": {},
   "source": [
    "### Adding a column 'veg/nonveg'"
   ]
  },
  {
   "cell_type": "code",
   "execution_count": 3,
   "metadata": {},
   "outputs": [
    {
     "data": {
      "text/html": [
       "<div>\n",
       "<style scoped>\n",
       "    .dataframe tbody tr th:only-of-type {\n",
       "        vertical-align: middle;\n",
       "    }\n",
       "\n",
       "    .dataframe tbody tr th {\n",
       "        vertical-align: top;\n",
       "    }\n",
       "\n",
       "    .dataframe thead th {\n",
       "        text-align: right;\n",
       "    }\n",
       "</style>\n",
       "<table border=\"1\" class=\"dataframe\">\n",
       "  <thead>\n",
       "    <tr style=\"text-align: right;\">\n",
       "      <th></th>\n",
       "      <th>Name</th>\n",
       "      <th>catagory</th>\n",
       "      <th>description</th>\n",
       "      <th>sub_catagory</th>\n",
       "      <th>Veg_Non</th>\n",
       "    </tr>\n",
       "  </thead>\n",
       "  <tbody>\n",
       "    <tr>\n",
       "      <th>0</th>\n",
       "      <td>Summer Squash Salad</td>\n",
       "      <td>NaN</td>\n",
       "      <td>Key Ingredients: white balsamic vinegar, lemon...</td>\n",
       "      <td>healthy</td>\n",
       "      <td>veg</td>\n",
       "    </tr>\n",
       "    <tr>\n",
       "      <th>1</th>\n",
       "      <td>Chicken Minced Salad</td>\n",
       "      <td>NaN</td>\n",
       "      <td>Key Ingredients: olive oil, chicken mince, gar...</td>\n",
       "      <td>healthy</td>\n",
       "      <td>non-veg</td>\n",
       "    </tr>\n",
       "    <tr>\n",
       "      <th>2</th>\n",
       "      <td>Sweet Chilli Almonds</td>\n",
       "      <td>NaN</td>\n",
       "      <td>Key Ingredients: almonds whole, egg white, cur...</td>\n",
       "      <td>healthy</td>\n",
       "      <td>veg</td>\n",
       "    </tr>\n",
       "    <tr>\n",
       "      <th>3</th>\n",
       "      <td>Tricolour Salad</td>\n",
       "      <td>NaN</td>\n",
       "      <td>Key Ingredients: vinegar, honey/sugar, soy sau...</td>\n",
       "      <td>healthy</td>\n",
       "      <td>veg</td>\n",
       "    </tr>\n",
       "    <tr>\n",
       "      <th>4</th>\n",
       "      <td>Sakkarai Pongal</td>\n",
       "      <td>NaN</td>\n",
       "      <td>Key Ingredients: rice, yellow moong dal, milk,...</td>\n",
       "      <td>healthy</td>\n",
       "      <td>veg</td>\n",
       "    </tr>\n",
       "  </tbody>\n",
       "</table>\n",
       "</div>"
      ],
      "text/plain": [
       "                    Name catagory  \\\n",
       "0   Summer Squash Salad       NaN   \n",
       "1  Chicken Minced Salad       NaN   \n",
       "2  Sweet Chilli Almonds       NaN   \n",
       "3       Tricolour Salad       NaN   \n",
       "4       Sakkarai Pongal       NaN   \n",
       "\n",
       "                                         description sub_catagory  Veg_Non  \n",
       "0  Key Ingredients: white balsamic vinegar, lemon...      healthy      veg  \n",
       "1  Key Ingredients: olive oil, chicken mince, gar...      healthy  non-veg  \n",
       "2  Key Ingredients: almonds whole, egg white, cur...      healthy      veg  \n",
       "3  Key Ingredients: vinegar, honey/sugar, soy sau...      healthy      veg  \n",
       "4  Key Ingredients: rice, yellow moong dal, milk,...      healthy      veg  "
      ]
     },
     "execution_count": 3,
     "metadata": {},
     "output_type": "execute_result"
    }
   ],
   "source": [
    "l = ['chicken','wings','meat','salmon','salmons','cob','cobs','kebab','kebabs','fish','snake','gosht','bacon','mutton','lamb','egg','eggs']\n",
    "nv = ['chicken','meat']\n",
    "vg_nv = []\n",
    "\n",
    "for name,cat in zip(df.Name,df.catagory):\n",
    "    n = name.split()\n",
    "    f=0\n",
    "    if cat in nv:\n",
    "        vg_nv.append('non-veg')\n",
    "    else: \n",
    "        for i in n:\n",
    "            if i.lower() in l:\n",
    "                f=1\n",
    "        if f==1:\n",
    "            vg_nv.append('non-veg')\n",
    "        else:\n",
    "            vg_nv.append('veg')\n",
    "            \n",
    "df['Veg_Non'] = vg_nv\n",
    "df.head()"
   ]
  },
  {
   "cell_type": "code",
   "execution_count": 4,
   "metadata": {},
   "outputs": [
    {
     "name": "stdout",
     "output_type": "stream",
     "text": [
      "veg        1646\n",
      "non-veg     305\n",
      "Name: Veg_Non, dtype: int64\n"
     ]
    },
    {
     "data": {
      "text/plain": [
       "<matplotlib.axes._subplots.AxesSubplot at 0x215b85536d8>"
      ]
     },
     "execution_count": 4,
     "metadata": {},
     "output_type": "execute_result"
    },
    {
     "data": {
      "image/png": "[encoded data removed]",
      "text/plain": [
       "<Figure size 432x288 with 1 Axes>"
      ]
     },
     "metadata": {
      "needs_background": "light"
     },
     "output_type": "display_data"
    }
   ],
   "source": [
    "print(df.Veg_Non.value_counts())\n",
    "sns.countplot(df.Veg_Non)"
   ]
  },
  {
   "cell_type": "markdown",
   "metadata": {},
   "source": [
    "### Adding a column 'review'"
   ]
  },
  {
   "cell_type": "code",
   "execution_count": 5,
   "metadata": {},
   "outputs": [
    {
     "data": {
      "text/html": [
       "<div>\n",
       "<style scoped>\n",
       "    .dataframe tbody tr th:only-of-type {\n",
       "        vertical-align: middle;\n",
       "    }\n",
       "\n",
       "    .dataframe tbody tr th {\n",
       "        vertical-align: top;\n",
       "    }\n",
       "\n",
       "    .dataframe thead th {\n",
       "        text-align: right;\n",
       "    }\n",
       "</style>\n",
       "<table border=\"1\" class=\"dataframe\">\n",
       "  <thead>\n",
       "    <tr style=\"text-align: right;\">\n",
       "      <th></th>\n",
       "      <th>Name</th>\n",
       "      <th>catagory</th>\n",
       "      <th>description</th>\n",
       "      <th>sub_catagory</th>\n",
       "      <th>Veg_Non</th>\n",
       "      <th>Review</th>\n",
       "    </tr>\n",
       "  </thead>\n",
       "  <tbody>\n",
       "    <tr>\n",
       "      <th>0</th>\n",
       "      <td>Summer Squash Salad</td>\n",
       "      <td>NaN</td>\n",
       "      <td>Key Ingredients: white balsamic vinegar, lemon...</td>\n",
       "      <td>healthy</td>\n",
       "      <td>veg</td>\n",
       "      <td>5</td>\n",
       "    </tr>\n",
       "    <tr>\n",
       "      <th>1</th>\n",
       "      <td>Chicken Minced Salad</td>\n",
       "      <td>NaN</td>\n",
       "      <td>Key Ingredients: olive oil, chicken mince, gar...</td>\n",
       "      <td>healthy</td>\n",
       "      <td>non-veg</td>\n",
       "      <td>3</td>\n",
       "    </tr>\n",
       "    <tr>\n",
       "      <th>2</th>\n",
       "      <td>Sweet Chilli Almonds</td>\n",
       "      <td>NaN</td>\n",
       "      <td>Key Ingredients: almonds whole, egg white, cur...</td>\n",
       "      <td>healthy</td>\n",
       "      <td>veg</td>\n",
       "      <td>2</td>\n",
       "    </tr>\n",
       "    <tr>\n",
       "      <th>3</th>\n",
       "      <td>Tricolour Salad</td>\n",
       "      <td>NaN</td>\n",
       "      <td>Key Ingredients: vinegar, honey/sugar, soy sau...</td>\n",
       "      <td>healthy</td>\n",
       "      <td>veg</td>\n",
       "      <td>2</td>\n",
       "    </tr>\n",
       "    <tr>\n",
       "      <th>4</th>\n",
       "      <td>Sakkarai Pongal</td>\n",
       "      <td>NaN</td>\n",
       "      <td>Key Ingredients: rice, yellow moong dal, milk,...</td>\n",
       "      <td>healthy</td>\n",
       "      <td>veg</td>\n",
       "      <td>1</td>\n",
       "    </tr>\n",
       "  </tbody>\n",
       "</table>\n",
       "</div>"
      ],
      "text/plain": [
       "                    Name catagory  \\\n",
       "0   Summer Squash Salad       NaN   \n",
       "1  Chicken Minced Salad       NaN   \n",
       "2  Sweet Chilli Almonds       NaN   \n",
       "3       Tricolour Salad       NaN   \n",
       "4       Sakkarai Pongal       NaN   \n",
       "\n",
       "                                         description sub_catagory  Veg_Non  \\\n",
       "0  Key Ingredients: white balsamic vinegar, lemon...      healthy      veg   \n",
       "1  Key Ingredients: olive oil, chicken mince, gar...      healthy  non-veg   \n",
       "2  Key Ingredients: almonds whole, egg white, cur...      healthy      veg   \n",
       "3  Key Ingredients: vinegar, honey/sugar, soy sau...      healthy      veg   \n",
       "4  Key Ingredients: rice, yellow moong dal, milk,...      healthy      veg   \n",
       "\n",
       "   Review  \n",
       "0       5  \n",
       "1       3  \n",
       "2       2  \n",
       "3       2  \n",
       "4       1  "
      ]
     },
     "execution_count": 5,
     "metadata": {},
     "output_type": "execute_result"
    }
   ],
   "source": [
    "review = []\n",
    "for i in range(df.shape[0]):\n",
    "    review.append(random.randint(1,5))\n",
    "df['Review'] = review\n",
    "df.head()"
   ]
  },
  {
   "cell_type": "code",
   "execution_count": 6,
   "metadata": {},
   "outputs": [
    {
     "data": {
      "text/plain": [
       "<matplotlib.axes._subplots.AxesSubplot at 0x215b88d3828>"
      ]
     },
     "execution_count": 6,
     "metadata": {},
     "output_type": "execute_result"
    },
    {
     "data": {
      "image/png": "[encoded data removed]",
      "text/plain": [
       "<Figure size 432x288 with 1 Axes>"
      ]
     },
     "metadata": {
      "needs_background": "light"
     },
     "output_type": "display_data"
    }
   ],
   "source": [
    "sns.countplot(df.Review)"
   ]
  },
  {
   "cell_type": "markdown",
   "metadata": {},
   "source": [
    "### Adding a column 'Nutrient'"
   ]
  },
  {
   "cell_type": "code",
   "execution_count": 7,
   "metadata": {},
   "outputs": [],
   "source": [
    "class Nutrient:\n",
    "    \n",
    "    def __init__(self,df):\n",
    "        self.df = df\n",
    "        pass\n",
    "    \n",
    "    def Iron(self):\n",
    "        url = 'https://www.redcrossblood.org/donate-blood/blood-donation-process/before-during-after/iron-blood-donation/iron-rich-foods.html'\n",
    "        data = requests.get(url)\n",
    "        soup = BeautifulSoup(data.content,'html.parser')\n",
    "        s = soup.findAll('div',{'class':'par-33'})\n",
    "        l=[]\n",
    "        iron = []\n",
    "        for html in s:\n",
    "            l = html.ul.text.split('\\n')\n",
    "            l = l[1:-1]\n",
    "            iron = iron+l\n",
    "        iron = ['red meat', 'poultry', 'eggs','egg', 'fruits', 'green' , 'fortified bread'] + iron\n",
    "        return iron\n",
    "    \n",
    "    def Calcium(self):\n",
    "        url = 'https://www.medicalnewstoday.com/articles/322585.php#non-dairy-sources-of-calcium'\n",
    "        data = requests.get(url)\n",
    "        soup = BeautifulSoup(data.content,'html.parser')\n",
    "        s = soup.findAll('h3')\n",
    "        calcium = []\n",
    "        for i in s[:-1]:\n",
    "            calcium.append(i.text.split('.')[1].strip())\n",
    "        calcium =['keer','yogurt', 'cheese', 'milk', 'salmon', 'leafy green','Cappuccino'] + calcium\n",
    "        return calcium\n",
    "    \n",
    "    def Sodium(self):\n",
    "        url = 'https://www.healthline.com/nutrition/foods-high-in-sodium#section1'\n",
    "        data = requests.get(url)\n",
    "        soup = BeautifulSoup(data.content,'html.parser')\n",
    "        s = soup.findAll('div',{'class':'css-0'})\n",
    "        sodium = []\n",
    "        for i in s[:-1]:\n",
    "            sodium.append(i.a.text.split('.')[1].strip())\n",
    "        sodium = ['salt', 'soy sauce', 'vegetables'] + sodium\n",
    "        return sodium\n",
    "    \n",
    "    def Iodine(self):\n",
    "        url = 'https://www.healthline.com/nutrition/iodine-rich-foods#section1'\n",
    "        data = requests.get(url)\n",
    "        soup = BeautifulSoup(data.content,'html.parser')\n",
    "        s = soup.findAll('div',{'class':'css-0'})\n",
    "        iodine = []\n",
    "        for i in s[:-1]:\n",
    "            iodine.append(i.a.text.split('.')[1].strip())\n",
    "        iodine = [ 'salt', 'seafood'] + iodine\n",
    "        return iodine\n",
    "    \n",
    "    def Magnesium(self):\n",
    "        url = 'https://www.healthline.com/nutrition/10-foods-high-in-magnesium#section11'\n",
    "        data = requests.get(url)\n",
    "        soup = BeautifulSoup(data.content,'html.parser')\n",
    "        s = soup.findAll('div',{'class':'css-0'})\n",
    "        magnesium = []\n",
    "        for i in s[:-1]:\n",
    "            magnesium.append(i.a.text.split('.')[1].strip())\n",
    "        magnesium =['chocolate','Spinach', 'broccoli', 'legumes', 'seeds'] + magnesium\n",
    "        return magnesium\n",
    "    \n",
    "    def Selenium(self):\n",
    "        url = 'https://www.healthline.com/health/selenium-foods#cashews'\n",
    "        data = requests.get(url)\n",
    "        soup = BeautifulSoup(data.content,'html.parser')\n",
    "        s = soup.findAll('div',{'class':'css-0'})\n",
    "        selenium = []\n",
    "        for i in s[2:]:\n",
    "            selenium.append(i.a.text.split('.')[1].strip())\n",
    "        selenium = ['banana','Organ meat', 'seafood', 'walnuts'] + selenium\n",
    "        return selenium\n",
    "    \n",
    "    def Protien(self):\n",
    "        url = 'https://www.healthline.com/nutrition/20-delicious-high-protein-foods'\n",
    "        data = requests.get(url)\n",
    "        soup = BeautifulSoup(data.content,'html.parser')\n",
    "        s = soup.findAll('div',{'class':'css-0'})\n",
    "        protien = []\n",
    "        for i in s[:-1]:\n",
    "            protien.append(i.a.text.split('.')[1].strip())\n",
    "        protien = protien + ['cookie','cookies','mutton','meat','gosht','Chicken','Wings','Meat','Salmon','Cob','Kebab','Fish','Snake','Gosht','Bacon','Mutton','Lamb']\n",
    "        url = 'https://www.medicalnewstoday.com/articles/321522.php#high-protein-foods-for-weight-loss'\n",
    "        data = requests.get(url)\n",
    "        soup = BeautifulSoup(data.content,'html.parser')\n",
    "        s = soup.findAll('p')\n",
    "        for p in s:\n",
    "            if p.strong:\n",
    "                protien.append(p.strong.text.split('.')[1].strip())\n",
    "        return protien\n",
    "    \n",
    "    def Carbohydrates(self): \n",
    "        url = 'https://www.healthline.com/nutrition/12-healthy-high-carb-foods'\n",
    "        data = requests.get(url)\n",
    "        soup = BeautifulSoup(data.content,'html.parser')\n",
    "        s = soup.findAll('div',{'class':'css-0'})\n",
    "        carb = []\n",
    "        for i in s[:-1]:\n",
    "            carb.append(i.a.text.split('.')[1].strip())\n",
    "        url = 'https://www.medicalnewstoday.com/articles/323110.php#dried-fruits'\n",
    "        data = requests.get(url)\n",
    "        soup = BeautifulSoup(data.content,'html.parser')\n",
    "        s = soup.findAll('h3')\n",
    "        for i in s[:-1]:\n",
    "            carb.append(i.text.split('.')[1].strip())\n",
    "        url = 'https://www.tuasaude.com/en/high-carb-foods/'\n",
    "        data = requests.get(url)\n",
    "        soup = BeautifulSoup(data.content,'html.parser')\n",
    "        s = soup.findAll('td')\n",
    "        for i in range(3,len(s),3):\n",
    "            carb.append(s[i].text.strip())\n",
    "        carb = carb +['Poha','aloo','buttter','ghee','rice','biryani','pulao']\n",
    "        return carb\n",
    "    \n",
    "    def Vitamin_c(self):\n",
    "        Vitamin_C = ['margarita','Citrus fruit',' potatoes', 'broccoli', 'bell peppers', 'spinach','strawberries','tomatoes', 'Brussels sprouts']\n",
    "        return Vitamin_C\n",
    "    \n",
    "    def Vitamin_A(self):\n",
    "        return ['beef', 'liver', 'eggs','egg', 'shrimp', 'fish', 'fortified milk',' sweet potatoes', 'carrots', 'pumpkins', 'spinach',' mangoes']\n",
    "\n",
    "    def Vitamin_D(self):\n",
    "        return ['milk' ,'cereals',' fatty','fish']\n",
    "\n",
    "    def Vitamin_E(self):\n",
    "        return ['vegetables oils', 'leafy green', 'whole grains', 'nuts']\n",
    "\n",
    "    def Vitamin_K(self):\n",
    "        return ['Cabbage', 'eggs','egg',' milk', 'spinach', 'broccoli',' kale']\n",
    "    \n",
    "    def Chloride(self):\n",
    "        return ['salt']\n",
    "\n",
    "    def Potassium(self):\n",
    "        return ['cake','meat', 'milk', 'fruits', 'vegetables', 'grains', 'legumes']\n",
    "  \n",
    "    def Chromium(self):\n",
    "        return ['meat', 'poultry', 'fish', 'nuts', 'cheese']\n",
    "\n",
    "    def Copper(self):\n",
    "        return ['shellfish', 'nuts', 'seeds', 'beans',' prunes']\n",
    "\n",
    "    def Fluoride(self):\n",
    "        return ['fish', 'teas']\n",
    "    \n",
    "    def Manganese(self):\n",
    "        return ['nuts', 'legumes', 'whole grains', 'tea','coffee','chai']\n",
    "\n",
    "    def Zinc(self):\n",
    "        return ['meat', 'shellfish', 'legumes', 'whole grains']\n",
    "\n",
    "    def Fiber(self):\n",
    "        return ['Salad','salad']\n",
    "\n",
    "    def Phosphorus(self):\n",
    "        return ['paneer','kebab']\n",
    "    \n",
    "    def apply(self):\n",
    "        Nutritions = {'Phosphorus':self.Phosphorus(),'Fiber':self.Fiber(),\n",
    "                  'Vitamin_c':self.Vitamin_c(),'Vitamin_A':self.Vitamin_A(),'Vitamin_D':self.Vitamin_D(),'Vitamin_E':self.Vitamin_E(),'Vitamin_K':self.Vitamin_K(),\n",
    "                 'Calcium':self.Calcium(),'Chloride':self.Chloride(),'Magnesium':self.Magnesium(),'Potassium':self.Potassium(),'Sodium':self.Sodium(),\n",
    "                  'Chromium':self.Chromium(),'Copper':self.Copper(),'Fluoride':self.Fluoride(),\n",
    "                  'Iodine':self.Iodine(),'Iron':self.Iron(),'Manganese':self.Manganese(),'Selenium':self.Selenium(),'Zinc':self.Zinc(),'Protien':self.Protien(),'Carbohydrates':self.Carbohydrates()}\n",
    "\n",
    "        \n",
    "        nutrient = []\n",
    "        tokens = []\n",
    "        for i,j in zip(df.Name,df.description):\n",
    "            N = [k.lower() for k in i.split()] \n",
    "            try:\n",
    "                D = [k.lower() for k in j.split()]\n",
    "            except:\n",
    "                D = []\n",
    "                \n",
    "            D = N+D[2:]\n",
    "            tokens.append(D)\n",
    "                  \n",
    "\n",
    "        for value in tokens:\n",
    "            f=1\n",
    "            for key,values in Nutritions.items():\n",
    "                for i in [k.lower() for k in values]:\n",
    "                    if i in value and f==1:\n",
    "                        nutrient.append(key)\n",
    "    \n",
    "                        f=0\n",
    "                    \n",
    "            if f==1:\n",
    "                nutrient.append(np.nan)\n",
    "                f=0\n",
    "\n",
    "\n",
    "                        \n",
    "\n",
    "        self.df['Nutrient'] = nutrient\n",
    "\n",
    "ob = Nutrient(df)\n",
    "ob.apply()\n",
    "\n"
   ]
  },
  {
   "cell_type": "code",
   "execution_count": 8,
   "metadata": {},
   "outputs": [
    {
     "data": {
      "text/plain": [
       "<matplotlib.axes._subplots.AxesSubplot at 0x215b897eb70>"
      ]
     },
     "execution_count": 8,
     "metadata": {},
     "output_type": "execute_result"
    },
    {
     "data": {
      "image/png": "[encoded data removed]",
      "text/plain": [
       "<Figure size 864x360 with 1 Axes>"
      ]
     },
     "metadata": {
      "needs_background": "light"
     },
     "output_type": "display_data"
    }
   ],
   "source": [
    "plt.figure(figsize=(12,5))\n",
    "plt.xticks(rotation=90)\n",
    "sns.countplot(df.Nutrient)"
   ]
  },
  {
   "cell_type": "markdown",
   "metadata": {},
   "source": [
    "lets see data with nutrient that isnt been assigned"
   ]
  },
  {
   "cell_type": "code",
   "execution_count": 9,
   "metadata": {},
   "outputs": [
    {
     "data": {
      "text/plain": [
       "array([nan, 'snacks', 'chicken', 'meat', 'rice', 'bread'], dtype=object)"
      ]
     },
     "execution_count": 9,
     "metadata": {},
     "output_type": "execute_result"
    }
   ],
   "source": [
    "df[df.Nutrient.isnull()].shape\n",
    "df.catagory.unique()"
   ]
  },
  {
   "cell_type": "code",
   "execution_count": 10,
   "metadata": {},
   "outputs": [
    {
     "data": {
      "text/plain": [
       "array(['healthy', nan, 'vegetarian', 'beverage', 'seafood', 'desserts',\n",
       "       'dinner', 'christmas', 'diwali', 'durga puja', 'easter', 'eid',\n",
       "       'holi', 'navratri', 'kids', 'winter', 'breakfast'], dtype=object)"
      ]
     },
     "execution_count": 10,
     "metadata": {},
     "output_type": "execute_result"
    }
   ],
   "source": [
    "df.sub_catagory.unique()"
   ]
  },
  {
   "cell_type": "markdown",
   "metadata": {},
   "source": [
    "That's too much of data lets fill it"
   ]
  },
  {
   "cell_type": "code",
   "execution_count": 11,
   "metadata": {},
   "outputs": [
    {
     "name": "stdout",
     "output_type": "stream",
     "text": [
      "(0, 7)\n"
     ]
    }
   ],
   "source": [
    "for i in range(df.shape[0]):\n",
    "    if df.loc[i,'catagory']=='meat' and df.loc[i,'Nutrient'] == 'none':\n",
    "        df.loc[i,'Nutrient'] = 'Protien'\n",
    "        \n",
    "for i in range(df.shape[0]):\n",
    "    if df.loc[i,'catagory']=='rice' and df.loc[i,'Nutrient'] == 'none': \n",
    "        df.loc[i,'Nutrient'] = 'Carbohydrates'\n",
    "        \n",
    "for i in range(df.shape[0]):\n",
    "    if df.loc[i,'catagory']=='chicken'and df.loc[i,'Nutrient'] == 'none':\n",
    "        df.loc[i,'Nutrient'] = 'Protien'\n",
    "        \n",
    "for i in range(df.shape[0]):\n",
    "    if df.loc[i,'sub_catagory']=='seafood'and df.loc[i,'Nutrient'] == 'none':\n",
    "        df.loc[i,'Nutrient'] = 'Vitamin_A'\n",
    "\n",
    "for i in range(df.shape[0]):\n",
    "    if df.loc[i,'catagory']=='bread'and df.loc[i,'Nutrient'] == 'none':\n",
    "        df.loc[i,'Nutrient'] = 'Protien'\n",
    "        \n",
    "for i in range(df.shape[0]):\n",
    "    if df.loc[i,'sub_catagory']=='vegetarian'and df.loc[i,'Nutrient'] == 'none':\n",
    "        df.loc[i,'Nutrient'] = 'Calcium'        \n",
    "\n",
    "for i in range(df.shape[0]):\n",
    "    if df.loc[i,'sub_catagory']=='navratri'and df.loc[i,'Nutrient'] == 'none':\n",
    "        df.loc[i,'Nutrient'] = 'Fibre'      \n",
    "        \n",
    "for i in range(df.shape[0]):\n",
    "    if df.loc[i,'sub_catagory']=='diwali'and df.loc[i,'Nutrient'] == 'none':\n",
    "        df.loc[i,'Nutrient'] = 'Carbohydrate' \n",
    "\n",
    "for i in range(df.shape[0]):\n",
    "    if df.loc[i,'sub_catagory']=='holi'and df.loc[i,'Nutrient'] == 'none':\n",
    "        df.loc[i,'Nutrient'] = 'Carbohydrate'\n",
    "        \n",
    "for i in range(df.shape[0]):\n",
    "    if df.loc[i,'sub_catagory']=='breakfast'and df.loc[i,'Nutrient'] == 'none':\n",
    "        df.loc[i,'Nutrient'] = 'Iron'  \n",
    "        \n",
    "for i in range(df.shape[0]):\n",
    "    if df.loc[i,'sub_catagory']=='healthy'and df.loc[i,'Nutrient'] == 'none':\n",
    "        df.loc[i,'Nutrient'] = 'Fibre'     \n",
    "        \n",
    "for i in range(df.shape[0]):\n",
    "    if df.loc[i,'sub_catagory']=='kids'and df.loc[i,'Nutrient'] == 'none':\n",
    "        df.loc[i,'Nutrient'] = 'Calcium'    \n",
    "        \n",
    "for i in range(df.shape[0]):\n",
    "    if df.loc[i,'sub_catagory']=='eid'and df.loc[i,'Nutrient'] == 'none':\n",
    "        df.loc[i,'Nutrient'] = 'Protien'\n",
    "        \n",
    "for i in range(df.shape[0]):\n",
    "    if df.loc[i,'sub_catagory']=='christmas'and df.loc[i,'Nutrient'] == 'none':\n",
    "        df.loc[i,'Nutrient'] = 'Protien Carbohydrates'       \n",
    "\n",
    "for i in range(df.shape[0]):\n",
    "    if df.loc[i,'sub_catagory']=='dinner'and df.loc[i,'Nutrient'] == 'none':\n",
    "        df.loc[i,'Nutrient'] = 'Protien Carbohydrates'   \n",
    "        \n",
    "for i in range(df.shape[0]):\n",
    "    if df.loc[i,'sub_catagory']=='desserts'and df.loc[i,'Nutrient'] == 'none':\n",
    "        df.loc[i,'Nutrient'] = 'Sugar Carbohydrates' \n",
    "\n",
    "        \n",
    "for i in range(df.shape[0]):\n",
    "    if df.loc[i,'catagory']=='snacks'and df.loc[i,'Nutrient'] == 'none':\n",
    "        df.loc[i,'Nutrient'] = 'Protien Carbohydrates'\n",
    "\n",
    "for i in range(df.shape[0]):\n",
    "    if df.loc[i,'catagory']=='easter'and df.loc[i,'Nutrient'] == 'none':\n",
    "        df.loc[i,'Nutrient'] = 'Protien Carbohydrates'\n",
    "        \n",
    "for i in range(df.shape[0]):\n",
    "    if df.loc[i,'sub_catagory']=='durga puja'and df.loc[i,'Nutrient'] == 'none':\n",
    "        df.loc[i,'Nutrient'] = 'Protien Carbohydrates'\n",
    "\n",
    "print(df[df['Nutrient']=='none'].shape)\n"
   ]
  },
  {
   "cell_type": "markdown",
   "metadata": {},
   "source": [
    "### Adding another column 'Price'"
   ]
  },
  {
   "cell_type": "code",
   "execution_count": 12,
   "metadata": {},
   "outputs": [
    {
     "data": {
      "text/html": [
       "<div>\n",
       "<style scoped>\n",
       "    .dataframe tbody tr th:only-of-type {\n",
       "        vertical-align: middle;\n",
       "    }\n",
       "\n",
       "    .dataframe tbody tr th {\n",
       "        vertical-align: top;\n",
       "    }\n",
       "\n",
       "    .dataframe thead th {\n",
       "        text-align: right;\n",
       "    }\n",
       "</style>\n",
       "<table border=\"1\" class=\"dataframe\">\n",
       "  <thead>\n",
       "    <tr style=\"text-align: right;\">\n",
       "      <th></th>\n",
       "      <th>Name</th>\n",
       "      <th>catagory</th>\n",
       "      <th>description</th>\n",
       "      <th>sub_catagory</th>\n",
       "      <th>Veg_Non</th>\n",
       "      <th>Review</th>\n",
       "      <th>Nutrient</th>\n",
       "      <th>Price</th>\n",
       "    </tr>\n",
       "  </thead>\n",
       "  <tbody>\n",
       "    <tr>\n",
       "      <th>0</th>\n",
       "      <td>Summer Squash Salad</td>\n",
       "      <td>NaN</td>\n",
       "      <td>Key Ingredients: white balsamic vinegar, lemon...</td>\n",
       "      <td>healthy</td>\n",
       "      <td>veg</td>\n",
       "      <td>5</td>\n",
       "      <td>Fiber</td>\n",
       "      <td>230</td>\n",
       "    </tr>\n",
       "    <tr>\n",
       "      <th>1</th>\n",
       "      <td>Chicken Minced Salad</td>\n",
       "      <td>NaN</td>\n",
       "      <td>Key Ingredients: olive oil, chicken mince, gar...</td>\n",
       "      <td>healthy</td>\n",
       "      <td>non-veg</td>\n",
       "      <td>3</td>\n",
       "      <td>Fiber</td>\n",
       "      <td>265</td>\n",
       "    </tr>\n",
       "    <tr>\n",
       "      <th>2</th>\n",
       "      <td>Sweet Chilli Almonds</td>\n",
       "      <td>NaN</td>\n",
       "      <td>Key Ingredients: almonds whole, egg white, cur...</td>\n",
       "      <td>healthy</td>\n",
       "      <td>veg</td>\n",
       "      <td>2</td>\n",
       "      <td>Vitamin_A</td>\n",
       "      <td>200</td>\n",
       "    </tr>\n",
       "    <tr>\n",
       "      <th>3</th>\n",
       "      <td>Tricolour Salad</td>\n",
       "      <td>NaN</td>\n",
       "      <td>Key Ingredients: vinegar, honey/sugar, soy sau...</td>\n",
       "      <td>healthy</td>\n",
       "      <td>veg</td>\n",
       "      <td>2</td>\n",
       "      <td>Fiber</td>\n",
       "      <td>220</td>\n",
       "    </tr>\n",
       "    <tr>\n",
       "      <th>4</th>\n",
       "      <td>Sakkarai Pongal</td>\n",
       "      <td>NaN</td>\n",
       "      <td>Key Ingredients: rice, yellow moong dal, milk,...</td>\n",
       "      <td>healthy</td>\n",
       "      <td>veg</td>\n",
       "      <td>1</td>\n",
       "      <td>NaN</td>\n",
       "      <td>470</td>\n",
       "    </tr>\n",
       "  </tbody>\n",
       "</table>\n",
       "</div>"
      ],
      "text/plain": [
       "                    Name catagory  \\\n",
       "0   Summer Squash Salad       NaN   \n",
       "1  Chicken Minced Salad       NaN   \n",
       "2  Sweet Chilli Almonds       NaN   \n",
       "3       Tricolour Salad       NaN   \n",
       "4       Sakkarai Pongal       NaN   \n",
       "\n",
       "                                         description sub_catagory  Veg_Non  \\\n",
       "0  Key Ingredients: white balsamic vinegar, lemon...      healthy      veg   \n",
       "1  Key Ingredients: olive oil, chicken mince, gar...      healthy  non-veg   \n",
       "2  Key Ingredients: almonds whole, egg white, cur...      healthy      veg   \n",
       "3  Key Ingredients: vinegar, honey/sugar, soy sau...      healthy      veg   \n",
       "4  Key Ingredients: rice, yellow moong dal, milk,...      healthy      veg   \n",
       "\n",
       "   Review   Nutrient  Price  \n",
       "0       5      Fiber    230  \n",
       "1       3      Fiber    265  \n",
       "2       2  Vitamin_A    200  \n",
       "3       2      Fiber    220  \n",
       "4       1        NaN    470  "
      ]
     },
     "execution_count": 12,
     "metadata": {},
     "output_type": "execute_result"
    }
   ],
   "source": [
    "price = []\n",
    "for i in range(df.shape[0]):\n",
    "    price.append(random.randrange(200,700,5))\n",
    "df['Price'] = price\n",
    "df.head()"
   ]
  },
  {
   "cell_type": "code",
   "execution_count": 13,
   "metadata": {},
   "outputs": [
    {
     "data": {
      "text/plain": [
       "<matplotlib.axes._subplots.AxesSubplot at 0x215b897e7f0>"
      ]
     },
     "execution_count": 13,
     "metadata": {},
     "output_type": "execute_result"
    },
    {
     "data": {
      "image/png": "[encoded data removed]",
      "text/plain": [
       "<Figure size 432x288 with 1 Axes>"
      ]
     },
     "metadata": {
      "needs_background": "light"
     },
     "output_type": "display_data"
    }
   ],
   "source": [
    "sns.distplot(df.Price)"
   ]
  },
  {
   "cell_type": "code",
   "execution_count": 14,
   "metadata": {},
   "outputs": [
    {
     "name": "stdout",
     "output_type": "stream",
     "text": [
      "Catagory column with null values (1591, 8)\n"
     ]
    }
   ],
   "source": [
    "print('Catagory column with null values',df[df['catagory'].isnull()].shape)"
   ]
  },
  {
   "cell_type": "markdown",
   "metadata": {},
   "source": [
    "### There exist too many null values for column catagory lets fill them\n"
   ]
  },
  {
   "cell_type": "code",
   "execution_count": 15,
   "metadata": {},
   "outputs": [
    {
     "data": {
      "text/plain": [
       "(36, 8)"
      ]
     },
     "execution_count": 15,
     "metadata": {},
     "output_type": "execute_result"
    }
   ],
   "source": [
    "l = ['Cookie','Cookies','cookie','cookies']\n",
    "\n",
    "for i in range(df.shape[0]):\n",
    "    \n",
    "    s = df.loc[i,'Name'].split()\n",
    "    for j in s:\n",
    "        if j in l:\n",
    "            df.loc[i,'catagory'] = 'cookie'\n",
    "df[df['catagory']=='cookie']\n",
    "df[df['catagory']=='cookie'].shape"
   ]
  },
  {
   "cell_type": "code",
   "execution_count": 16,
   "metadata": {},
   "outputs": [
    {
     "data": {
      "text/plain": [
       "(19, 8)"
      ]
     },
     "execution_count": 16,
     "metadata": {},
     "output_type": "execute_result"
    }
   ],
   "source": [
    "l = ['Paneer','paneer']\n",
    "\n",
    "for i in range(df.shape[0]):\n",
    "    \n",
    "    s = df.loc[i,'Name'].split()\n",
    "    for j in s:\n",
    "        if j in l:\n",
    "            df.loc[i,'catagory'] = 'paneer'\n",
    "df[df['catagory']=='paneer'].shape"
   ]
  },
  {
   "cell_type": "code",
   "execution_count": 17,
   "metadata": {},
   "outputs": [
    {
     "data": {
      "text/plain": [
       "(21, 8)"
      ]
     },
     "execution_count": 17,
     "metadata": {},
     "output_type": "execute_result"
    }
   ],
   "source": [
    "l = ['Salad','salad']\n",
    "\n",
    "for i in range(df.shape[0]):\n",
    "    \n",
    "    s = df.loc[i,'Name'].split()\n",
    "    for j in s:\n",
    "        if j in l:\n",
    "            df.loc[i,'catagory'] = 'salad'\n",
    "df[df['catagory']=='salad'].shape"
   ]
  },
  {
   "cell_type": "code",
   "execution_count": 18,
   "metadata": {},
   "outputs": [
    {
     "data": {
      "text/plain": [
       "(18, 8)"
      ]
     },
     "execution_count": 18,
     "metadata": {},
     "output_type": "execute_result"
    }
   ],
   "source": [
    "l = ['Thandai','thandai']\n",
    "\n",
    "for i in range(df.shape[0]):\n",
    "    \n",
    "    s = df.loc[i,'Name'].split()\n",
    "    for j in s:\n",
    "        if j in l:\n",
    "            df.loc[i,'catagory'] = 'thandai'\n",
    "df[df['catagory']=='thandai'].shape"
   ]
  },
  {
   "cell_type": "code",
   "execution_count": 19,
   "metadata": {},
   "outputs": [
    {
     "data": {
      "text/plain": [
       "(4, 8)"
      ]
     },
     "execution_count": 19,
     "metadata": {},
     "output_type": "execute_result"
    }
   ],
   "source": [
    "l = ['milk','Milk']\n",
    "\n",
    "for i in range(df.shape[0]):\n",
    "    \n",
    "    s = df.loc[i,'Name'].split()\n",
    "    for j in s:\n",
    "        if j in l:\n",
    "            df.loc[i,'catagory'] = 'milk'\n",
    "df[df['catagory']=='milk'].shape"
   ]
  },
  {
   "cell_type": "code",
   "execution_count": 20,
   "metadata": {},
   "outputs": [
    {
     "data": {
      "text/plain": [
       "(20, 8)"
      ]
     },
     "execution_count": 20,
     "metadata": {},
     "output_type": "execute_result"
    }
   ],
   "source": [
    "l = ['soup','Soup']\n",
    "\n",
    "for i in range(df.shape[0]):\n",
    "    \n",
    "    s = df.loc[i,'Name'].split()\n",
    "    for j in s:\n",
    "        if j in l:\n",
    "            df.loc[i,'catagory'] = 'soup'\n",
    "df[df['catagory']=='soup'].shape"
   ]
  },
  {
   "cell_type": "code",
   "execution_count": 21,
   "metadata": {},
   "outputs": [
    {
     "data": {
      "text/plain": [
       "(8, 8)"
      ]
     },
     "execution_count": 21,
     "metadata": {},
     "output_type": "execute_result"
    }
   ],
   "source": [
    "l = ['margarita','Margarita']\n",
    "\n",
    "for i in range(df.shape[0]):\n",
    "    \n",
    "    s = df.loc[i,'Name'].split()\n",
    "    for j in s:\n",
    "        if j in l:\n",
    "            df.loc[i,'catagory'] = 'margarita'\n",
    "df[df['catagory']=='margarita'].shape"
   ]
  },
  {
   "cell_type": "code",
   "execution_count": 22,
   "metadata": {},
   "outputs": [
    {
     "data": {
      "text/plain": [
       "(9, 8)"
      ]
     },
     "execution_count": 22,
     "metadata": {},
     "output_type": "execute_result"
    }
   ],
   "source": [
    "l = ['Tea','tea','chai','Chai']\n",
    "\n",
    "for i in range(df.shape[0]):\n",
    "    \n",
    "    s = df.loc[i,'Name'].split()\n",
    "    for j in s:\n",
    "        if j in l:\n",
    "            df.loc[i,'catagory'] = 'tea'\n",
    "df[df['catagory']=='tea'].shape"
   ]
  },
  {
   "cell_type": "code",
   "execution_count": 23,
   "metadata": {},
   "outputs": [
    {
     "data": {
      "text/plain": [
       "(9, 8)"
      ]
     },
     "execution_count": 23,
     "metadata": {},
     "output_type": "execute_result"
    }
   ],
   "source": [
    "l = ['ESPRESSO','CAPPUCCINO','CAFÉ LATTE','MACCHIATO','AMERICANO','DECAFFEINATED','Coffee','CAFÉ LATTE']\n",
    "\n",
    "for i in range(df.shape[0]):\n",
    "    \n",
    "    s = df.loc[i,'Name'].split()\n",
    "    for j in s:\n",
    "        if j in l:\n",
    "            df.loc[i,'catagory'] = 'coffee'\n",
    "df[df['catagory']=='coffee'].shape"
   ]
  },
  {
   "cell_type": "code",
   "execution_count": 24,
   "metadata": {},
   "outputs": [
    {
     "data": {
      "text/plain": [
       "(5, 8)"
      ]
     },
     "execution_count": 24,
     "metadata": {},
     "output_type": "execute_result"
    }
   ],
   "source": [
    "l = ['Wine','wine']\n",
    "\n",
    "for i in range(df.shape[0]):\n",
    "    \n",
    "    s = df.loc[i,'Name'].split()\n",
    "    for j in s:\n",
    "        if j in l:\n",
    "            df.loc[i,'catagory'] = 'wine'\n",
    "df[df['catagory']=='wine'].shape"
   ]
  },
  {
   "cell_type": "code",
   "execution_count": 25,
   "metadata": {},
   "outputs": [
    {
     "data": {
      "text/plain": [
       "(44, 8)"
      ]
     },
     "execution_count": 25,
     "metadata": {},
     "output_type": "execute_result"
    }
   ],
   "source": [
    "l = ['Cake','cake']\n",
    "\n",
    "for i in range(df.shape[0]):\n",
    "    \n",
    "    s = df.loc[i,'Name'].split()\n",
    "    for j in s:\n",
    "        if j in l:\n",
    "            df.loc[i,'catagory'] = 'cake'\n",
    "df[df['catagory']=='cake'].shape"
   ]
  },
  {
   "cell_type": "markdown",
   "metadata": {},
   "source": [
    "putting catagory like this really dosent make any sense , lets find out the most occouring words from name and assign them as catagory"
   ]
  },
  {
   "cell_type": "code",
   "execution_count": 26,
   "metadata": {},
   "outputs": [
    {
     "name": "stdout",
     "output_type": "stream",
     "text": [
      "[('and', 101), ('chicken', 93), ('with', 76), ('ki', 66), ('almond', 55), ('chocolate', 54), ('ka', 52), ('kheer', 46), ('cake', 44), ('curry', 40), ('rice', 40), ('biryani', 40), ('halwa', 37), ('fish', 35), ('aloo', 35), ('mutton', 34), ('cookies', 33), ('baked', 32), ('&amp;', 32), ('kebab', 29), ('christmas', 27), ('ladoo', 27), ('badam', 25), ('strawberry', 25), ('apple', 25), ('salad', 21), ('tikka', 21), ('lamb', 20), ('soup', 20), ('banana', 20), ('vada', 20), ('bread', 20), ('sauce', 19), ('kaju', 19), ('paneer', 19), ('prawn', 19), ('aur', 18), ('barfi', 18), ('puri', 18), ('mango', 18), ('thandai', 18), ('masala', 18), ('coconut', 17), ('dahi', 17), ('fried', 17), ('pizza', 17), ('roll', 17), ('fruit', 17), ('ragi', 16), ('phirni', 16), ('red', 16), ('modak', 16), ('rasmalai', 16), ('grilled', 15), ('vegetable', 15), ('dal', 15), ('malai', 15), ('gosht', 15), ('lemon', 14), ('kofta', 14), ('gujiya', 14), ('pasta', 14), ('ke', 14), ('of', 13), ('white', 13), ('pulao', 13), ('methi', 13), ('(laddu)', 13), ('sweet', 12), ('poha', 12), ('butter', 12), ('dosa', 12), ('carrot', 12), ('chaat', 12), ('spiced', 12), ('meat', 11), ('jamun', 11), ('kebabs', 11), ('kulfi', 11), ('gajar', 11), ('in', 11), ('korma', 11), ('pista', 11), ('gulab', 10), ('khichdi', 10), ('palak', 10), ('roti', 10), ('roast', 10), ('tikki', 10), ('tricolor', 10), ('thai', 10), ('cheese', 10), ('matar', 10), ('smoothie', 9), ('cranberry', 9), ('raw', 9), ('kesari', 9), ('sabudana', 9), ('rabdi', 9), ('fudge', 9), ('berry', 9), ('andhra', 9), ('seekh', 9), ('fizz', 9), ('coffee', 9), ('maas', 9), ('paratha', 9), ('summer', 8), ('cream', 8), ('quinoa', 8), ('free)', 8), ('green', 8), ('lauki', 8), ('walnut', 8), ('spicy', 8), ('potato', 8), ('beetroot', 8), ('bunny', 8), ('kanji', 8), ('anjeer', 8), ('samosa', 8), ('kachori', 8), ('gulkand', 8), ('risotto', 8), ('rose', 8), ('margarita', 8), ('murgh', 8), ('fry', 8), ('khas', 8), ('pongal', 7), ('honey', 7), ('corn', 7), ('nuts', 7), ('roasted', 7), ('(sugar', 7), ('namak', 7), ('para', 7), ('dates', 7), ('spinach', 7), ('sev', 7), ('mixed', 7), ('pan', 7), ('style', 7), ('lovers', 7), ('stollen', 7), ('cardamom', 7), ('dome', 7), ('sangria', 7), ('tart', 7), ('winter', 7), ('chawal', 7), ('arbi', 7), ('mushroom', 7), ('valencia', 7), ('tiramisu', 7), ('tea', 7), ('egg', 7), ('pie', 7), ('vermicelli', 7), ('parantha', 7), ('kulcha', 7), ('khaja', 7), ('rabri', 7), ('jalebi', 7), ('bhaji', 7), ('/', 7), ('chilli', 6), ('tricolour', 6), ('chikki', 6), ('zucchini', 6), ('gluten-free', 6), ('barley', 6), ('parfait', 6), ('the', 6), ('raspberry', 6), ('free', 6), ('chakli', 6), ('dip', 6), ('shankarpali', 6), ('dessert', 6), ('cashew', 6), ('tomato', 6), ('soya', 6), ('stuffed', 6), ('chana', 6), ('steam', 6), ('bao', 6), ('peda', 6), ('tiranga', 6), ('tree', 6), ('german', 6), ('boti', 6), ('pav', 6), ('idli', 6), ('seed', 6), ('saffron', 6), ('love', 6), ('chutney', 6), ('cocktail', 6), ('mint', 6), ('garlic', 6), ('turkey', 6), ('microwave', 6), ('wrapped', 6), ('keema', 6), ('shami', 6), ('atta', 6), ('tenga', 6), ('kuttu', 6), ('poori', 6), ('madata', 6), ('ghevar', 6), ('pancakes', 6), ('pudding', 6), ('double', 6), ('papad', 6), ('meetha', 6), ('nadu)', 6), ('pitha', 6), ('salsa', 5), ('nero', 5), ('pepper', 5), ('subz', 5), ('nut', 5), ('feta', 5), ('crepes', 5), ('ginger', 5), ('ghavan', 5), ('pomfret', 5), ('ghee', 5), ('bhang', 5), ('lasagna', 5), ('peanut', 5), ('steak', 5), ('pork', 5), ('peshawari', 5), ('chapli', 5), ('appo', 5), ('mahi', 5), ('nazaqati', 5), ('sesame', 5), ('sattu', 5), ('kimami', 5), ('sewaiyan', 5), ('shrikhand', 5), ('seviyan', 5), ('jelly', 5), ('snow', 5), ('bite', 5), ('kadhi', 5), ('achaar', 5), ('wine', 5), ('bamboo', 5), ('dum', 5), ('korean', 5), ('bibimbap', 5), ('steamed', 5), ('tandoori', 5), ('beliram', 5), ('nihari', 5), ('stew', 5), ('awadhi', 5), ('kesar', 5), ('hyderabadi', 5), ('shahi', 5), ('katli', 5), ('sandesh', 5), ('makhane', 5), ('jaggery', 5), ('hachi', 5), ('date', 5), ('cheesecake', 5), ('doi', 5), ('hindi', 5), ('sadam', 5), ('minced', 4), ('sakkarai', 4), ('japanese', 4), ('arancini', 4), ('broccoli', 4), ('on', 4), ('shorba', 4), ('gluten', 4), ('galawat', 4), ('namakpara', 4), ('checkerboard', 4), ('multigrain', 4), ('murukku', 4), ('scotch', 4), ('lentil', 4), ('kahwa', 4), ('kiwi', 4), ('oats', 4), ('wings', 4), ('classic', 4), ('momos', 4), ('(without', 4), ('shell)', 4), ('gajak', 4), ('ca', 4), ('cang', 4), ('kho', 4), ('yera', 4), ('sukha', 4), ('salmon', 4), ('tulsi', 4), ('ajwain', 4), ('kalmi', 4), ('pesto', 4), ('reshmi', 4), ('bites', 4), ('vegetarian', 4), ('appam', 4), ('basil', 4), ('pithe', 4), ('warm', 4), ('kinnu', 4), ('punch', 4), ('slow', 4), ('cooked', 4), ('fig', 4), ('holi', 4), ('special', 4), ('spanish', 4), ('milk', 4), ('fresh', 4), ('cappuccino', 4), ('braised', 4), ('plum', 4), ('char', 4), ('minar', 4), ('raan', 4), ('tawa', 4), ('kadai', 4), ('kofte', 4), ('malabari', 4), ('coriander', 4), ('morning', 4), ('greed', 4), ('goan', 4), ('masor', 4), ('mousse', 4), ('chingri', 4), ('veg', 4), ('pistachio', 4), ('kalakand', 4), ('(vrat)', 4), ('upma', 4), ('dundee', 4), ('balsamic', 4), ('multi-layered', 4), ('gehun', 4), ('sushi', 4), ('khoya', 4), ('whole', 4), ('breeze', 4), ('panacotta', 4), ('eggless', 4), ('easter', 4), ('kashmiri', 4), ('khus', 4), ('besan', 4), ('sohan', 4), ('panjiri', 4), ('malpua', 4), ('payesh', 4), ('imarti', 4), ('atte', 4), ('petha', 4), ('omelette', 4), ('no', 4), ('laddu', 4), ('chhena', 4), ('almonds', 3), ('chargrilled', 3), ('bell', 3), ('glazed', 3), ('sous', 3), ('vide', 3), ('cob', 3), ('watermelon', 3), ('polenta', 3), ('recipe', 3), ('som', 3), ('tam', 3), ('tangy', 3), ('amaranth', 3), ('moong', 3), ('missi', 3), ('lotus', 3), ('root', 3), ('quesadilla', 3), ('dragon', 3), ('fire', 3), ('argentino', 3), ('belgian', 3), ('chop', 3), ('moonglet', 3), ('lasooni', 3), ('(fried', 3), ('pakori', 3), ('zaitooni', 3), ('croquettes', 3), ('beyond', 3), ('ozone', 3), ('prunes', 3), ('gujiyas', 3), ('hariyali', 3), ('apricot', 3), ('gokul', 3), ('shower', 3), ('devils', 3), ('onion', 3), ('gur', 3), ('maple', 3), ('ice', 3), ('desi', 3), ('gobhi', 3), ('mastani', 3), ('drink', 3), ('hot', 3), ('mocha', 3), ('whisky', 3), ('bourbon', 3), ('haldi', 3), ('irish', 3), ('old', 3), ('fashioned', 3), ('filter', 3), ('boondi', 3), ('murg', 3), ('bemisal', 3), ('mummy', 3), ('amritsari', 3), ('cauliflower', 3), ('rum', 3), ('fritters', 3), ('seared', 3), ('crab', 3), ('cajun', 3), ('bacon', 3), ('mongolian', 3), ('balls', 3), ('haleem', 3), ('chops', 3), ('bhuni', 3), ('hokh', 3), ('hund', 3), ('marchwangan', 3), ('portugese', 3), ('surmai', 3), ('shrimp', 3), ('fingers', 3), ('rava', 3), ('ada', 3), ('pineapple', 3), ('bruschetta', 3), ('breton', 3), ('luchi', 3), ('upside', 3), ('down', 3), ('dinner', 3), ('di', 3), ('(puri)', 3), ('tukda', 3), ('parotta', 3), ('poppy', 3), ('brownie', 3), ('macaroons', 3), ('crunch', 3), ('fennel', 3), ('crumble', 3), ('ajwaini', 3), ('ruwangan', 3), ('chaman', 3), ('valentine', 3), ('hazelnut', 3), ('sable', 3), ('ravioli', 3), ('texture', 3), ('turkish', 3), ('fall', 3), ('vanilla', 3), ('cinnamon', 3), ('cookie', 3), ('indian', 3), ('bedmi', 3), ('raseele', 3), ('suji', 3), ('zaffrani', 3), ('nariyal', 3), ('aanarsa', 3), ('assorted', 3), ('yogurt', 3), ('creamy', 3), ('sheer', 3), ('pakode', 3), ('kele', 3), ('thepla', 3), ('bonda', 3), ('singhare', 3), ('jalapeno', 3), ('makki', 3), ('chole', 3), ('daal', 3), ('pani', 3), ('keerai', 3), ('vadi', 3), ('basundi', 3), ('dhokli', 3), ('dhokla', 3), ('pohe', 3), ('papdi', 3), ('ras', 3), ('main', 3), ('article', 3), ('american', 3), ('ancient', 3), ('squash', 2), ('lime', 2), ('escabeche', 2), ('hawaiin', 2), ('papaya', 2), ('couscous', 2), ('idlis', 2), ('bajra-meethi', 2), ('bajre', 2), ('sugar', 2), ('parmigiana', 2), ('sous-vide', 2), ('tiny', 2), ('pao', 2), ('filo', 2), ('basket', 2), ('shakuli', 2), ('(himachali', 2), ('papad)', 2), ('active', 2), ('charcoal', 2), ('flax', 2), ('ney', 2), ('colada', 2), ('rainbow', 2), ('clotted', 2), ('cottage', 2), ('is', 2), ('here', 2), ('lollies', 2), ('khada', 2), ('baingan', 2), ('paan', 2), ('kanjioska', 2), ('sage', 2), ('gin', 2), ('mess', 2), ('coulis', 2), ('chai', 2), ('detox', 2), ('infused', 2), ('water', 2), ('a', 2), ('feliz', 2), ('navidad', 2), ('holy', 2), ('lassi', 2), ('nitro-arc', 2), ('espresso', 2), ('smash', 2), ('pinenut', 2), ('burnt', 2), ('essence', 2), ('spring', 2), ('veggies', 2), ('peri', 2), ('riceless', 2), ('dimsums', 2), ('roulade', 2), ('crispy', 2), ('dogs', 2), ('oat', 2), ('crusted', 2), ('tenders', 2), ('beer', 2), ('tartar', 2), ('thigh', 2), ('mahalak', 2), ('bhel', 2), ('noodle', 2), ('donut', 2), ('khowsuey', 2), ('kachri', 2), ('qeema', 2), ('duck', 2), ('marinated', 2), ('khade', 2), ('masale', 2), ('chaap', 2), ('dish)', 2), ('mach', 2), ('paya', 2), ('rada', 2), ('kathi', 2), ('bengali', 2), ('malabar', 2), ('lobster', 2), ('tomatoes', 2), ('seafood', 2), ('rock', 2), ('filler', 2), ('cilantro', 2), ('ceviche', 2), ('rice)', 2), ('exotic', 2), ('canapes', 2), ('batter', 2), ('litchi', 2), ('machcha', 2), ('(fish', 2), ('curry)', 2), ('black', 2), ('asparagus', 2), ('tehri', 2), ('leaf', 2), ('chitranna', 2), ('kale', 2), ('channe', 2), ('avial', 2), ('bele', 2), ('flatbread', 2), ('singhaare', 2), ('aate', 2), ('panettone', 2), ('punjabi', 2), ('nutri', 2), ('sandwich', 2), ('toast', 2), ('dhabe', 2), ('cross', 2), ('buns', 2), ('custard', 2), ('rolls', 2), ('sheermal', 2), ('ariselu', 2), ('mix', 2), ('laccha', 2), ('tortilla', 2), ('jaconde', 2), ('sponge', 2), ('ball', 2), ('h', 2), ('(sugar-free)', 2), ('pot', 2), ('al', 2), ('chemmeen', 2), ('moru', 2), ('amaranthus', 2), ('granola', 2), ('yogurt,', 2), ('berries', 2), ('marigold', 2), ('oatmeal', 2), ('shortcake', 2), ('chip', 2), ('cupcakes', 2), ('jujubes', 2), ('simnel', 2), ('wheat', 2), ('kaleji', 2), ('homemade', 2), ('crme', 2), ('anglasise', 2), ('lacche', 2), ('rogan', 2), ('josh', 2), ('murmura', 2), ('khoye', 2), ('machcher', 2), ('jhol', 2), ('ilish', 2), ('muffin', 2), ('ham', 2), ('orange', 2), ('burfi', 2), ('matka', 2), ('cutlets', 2), ('do', 2), ('karanji', 2), ('rasgulla', 2), ('kacche', 2), ('khasta', 2), ('makhana', 2), ('mooli', 2), ('til', 2), ('sonth', 2), ('puffed', 2), ('aam', 2), ('sabzi', 2), ('velvet', 2), ('fettuccine', 2), ('pomodoro', 2), ('omlette', 2), ('nachos', 2), ('californian', 2), ('breakfast', 2), ('benedict', 2), ('tutty', 2), ('fruity', 2), ('melon', 2), ('aloowala', 2), ('hari', 2), ('mirch', 2), ('pancake', 2), ('french', 2), ('amriti', 2), ('baati', 2), ('chapati', 2), ('bhature', 2), ('bharta', 2), ('subji', 2), ('litti', 2), ('pakhala', 2), ('pindi', 2), ('rajma', 2), ('(tamil', 2), ('poriyal', 2), ('obbattu', 2), ('(dish)', 2), ('paniyaram', 2), ('papadum', 2), ('sajjige', 2), ('sevai', 2), ('sadam,', 2), ('or', 2), ('rotlo', 2), ('dabeli', 2), ('doodhpak', 2), ('halwo', 2), ('khakhra', 2), ('khandvi', 2), ('panipuri', 2), ('patra', 2), ('undhiyu', 2), ('khaman', 2), ('sawul', 2), ('momo', 2), ('sunga', 2), ('pitika', 2), ('haq', 2), ('koldil', 2), ('mishti', 2), ('pantua', 2), ('cham', 2), ('malapua', 2), ('mysore', 2), ('pak', 2), ('poornalu', 2), ('pootharekulu', 2), ('anarsa', 2), ('puran', 2), ('poli', 2), ('halva', 2), ('laddoo', 2), ('chips', 2), ('bhurji-', 2), ('bajji', 2), ('gucchi', 1), ('mussallam', 1), ('peach,', 1), ('kurkuri', 1), ('seb', 1), ('badaam', 1), ('pearls', 1), ('ratatouille', 1), ('-', 1), ('kappa', 1), ('(tapioca)', 1), ('(aal)', 1), ('saag', 1), ('kesaria', 1), ('doodh', 1), ('bowl', 1), ('cold', 1), ('juice', 1), ('pluck', 1), ('quinoa,', 1), ('ussal', 1), ('sangri', 1), ('shikampuri', 1), ('almond,', 1), ('pomegranate', 1), ('caramelized', 1), ('smoked', 1), ('oven-roasted', 1), ('falafel', 1), ('bachka', 1), ('snack)', 1), ('crunchy', 1), ('betel', 1), ('popsicle', 1), ('sindhi', 1), ('guava', 1), ('shepherds', 1), ('(tamatar-kheera', 1), ('salaad)', 1), ('tamatar', 1), ('wali', 1), ('chatpate', 1), ('wala', 1), ('dark', 1), ('night', 1), ('arrak', 1), ('river', 1), ('sole', 1), ('for', 1), ('your', 1), ('soul', 1), ('pink', 1), ('lemonade', 1), ('cooler', 1), ('anti-ageing', 1), ('artichoke', 1), ('moscow', 1), ('mule', 1), ('chilled', 1), ('darjeeling', 1), ('first', 1), ('flush', 1), ('peach', 1), ('iced', 1), ('love,', 1), ('live', 1), ('laugh', 1), ('express', 1), ('affinity', 1), ('baba', 1), ('budan', 1), ('no.', 1), ('7', 1), ('falsa', 1), ('sherbet', 1), ('ek', 1), ('bar', 1), ('mulled', 1), ('genie', 1), ('bottle', 1), ('pina', 1), ('rangeela', 1), ('mojito', 1), ('amla', 1), ('freshener', 1), ('bahar', 1), ('chickoo', 1), ('tropicana', 1), ('spritz', 1), ('satay', 1), ('popcorn', 1), ('half', 1), ('farcha', 1), ('karri', 1), ('bhatti', 1), ('buldak', 1), ('(hot', 1), ('chicken)', 1), ('sukka', 1), ('restaurant', 1), ('potli', 1), ('herb', 1), ('wraps', 1), ('(tortellini', 1), ('meat)', 1), ('nimbu', 1), ('dhaniya', 1), ('rocket', 1), ('caesar', 1), ('coq', 1), ('au', 1), ('vin', 1), ('(chicken', 1), ('wine)', 1), ('cherry', 1), (\"bikers'\", 1), ('fusion', 1), ('discovery', 1), ('sticky', 1), ('tabriz', 1), ('palwal', 1), ('jalapenos', 1), ('kasundi', 1), ('mash', 1), ('dong', 1), ('southern', 1), ('gilafi', 1), ('kadhai', 1), ('oyster', 1), ('railway', 1), ('quail', 1), ('legs', 1), ('tamarind', 1), ('glaze', 1), ('laal', 1), ('mole', 1), ('lagan', 1), ('rampuri', 1), ('dhaba', 1), ('balti', 1), ('bater', 1), ('(quail)', 1), ('rann', 1), ('soole', 1), ('(barbecued', 1), ('lamb)', 1), ('saute', 1), ('(mutton', 1), ('kebab)', 1), ('kohlapuri', 1), ('barrah', 1), ('sali', 1), ('(parsi', 1), ('safed', 1), ('barbecued', 1), ('leg', 1), ('sugarcane', 1), ('sticks', 1), ('kabargah', 1), ('ribs)', 1), ('banjari', 1), ('shashlik', 1), ('sheesh', 1), ('nadru', 1), ('shammi', 1), ('shanks', 1), ('chaamp', 1), ('kaalimirch', 1), ('tabasco', 1), ('parmesan', 1), ('pancake,', 1), ('confit', 1), ('coral', 1), ('tuille', 1), ('skewers', 1), ('vinegar', 1), ('dressing', 1), ('saewoo', 1), ('bokumbop', 1), ('(shrimp', 1), ('bihari', 1), ('john', 1), ('dory,', 1), ('flavours', 1), ('india', 1), ('(awadhi', 1), ('style)', 1), ('tellicherry', 1), ('basa', 1), ('chemeen', 1), ('thoren', 1), ('besarou', 1), ('meen', 1), ('mulligatanni', 1), ('patropoda', 1), ('leaf)', 1), ('head', 1), ('kerala', 1), ('(royallu', 1), ('iguru)', 1), ('tuna', 1), ('pollichathu', 1), ('poached', 1), ('prawns', 1), ('konju', 1), ('varutharaccha', 1), ('(kerala', 1), ('mangalorean', 1), ('andlouse', 1), ('kullu', 1), ('trout', 1), ('kane', 1), ('sangat', 1), ('catfish)', 1), ('chepala', 1), ('iguru', 1), ('damdama', 1), ('cod', 1), ('parsley', 1), ('lemongrass', 1), ('ambultiyal', 1), ('bhapa', 1), ('chettinad', 1), ('moilee', 1), ('salan', 1), ('cha', 1), ('chu', 1), ('basanti', 1), ('satrangi', 1), ('pradhaman', 1), ('cucumber', 1), ('shots', 1), ('allahabadi', 1), ('samak', 1), ('curd', 1), ('chunks', 1), ('sabz', 1), ('mavinakayi', 1), ('nellikai', 1), ('(raw', 1), ('gooseberry', 1), ('neychorr', 1), ('khichda', 1), ('motia', 1), ('machchli', 1), ('paella', 1), ('vagharela', 1), ('shallots', 1), ('shiitake', 1), ('chestnuts', 1), ('nei', 1), ('bissi', 1), ('bhath', 1), ('stock', 1), ('sabziyon', 1), ('gulabi', 1), ('bajra-methi', 1), ('instant', 1), ('easy', 1), ('spaghetti', 1), ('clams', 1), ('crumbs', 1), ('kasha', 1), ('cheddar', 1), ('scones', 1), ('blanket', 1), ('mamma', 1), ('panne', 1), ('poor', 1), ('knights', 1), ('windsor', 1), ('torta', 1), ('(leftover', 1), ('sandwich)', 1), ('bombay', 1), ('toasty', 1), ('avocado', 1), ('lachcha', 1), ('olives', 1), ('multi-grain', 1), ('mozzarella', 1), ('roti/bhakri', 1), ('pithi', 1), ('mandarin', 1), ('chia', 1), ('smaaash', 1), ('waffle', 1), ('doughnut', 1), ('scented', 1), ('kadha', 1), ('prasad', 1), ('mille', 1), ('feuille', 1), ('camel', 1), ('eggplant', 1), ('schezwan', 1), ('forest', 1), ('handi', 1), ('full', 1), ('time', 1), ('liit', 1), ('boozy', 1), ('snake', 1), ('papite', 1), ('babaganoush', 1), ('monks', 1), ('booster', 1), ('because', 1), ('ladies', 1), ('it', 1), ('duo', 1), ('jam', 1), ('shortbread', 1), ('biscuit', 1), ('mustard-parmesan', 1), ('hassel', 1), ('back', 1), ('potatoes', 1), ('mother', 1), ('matcha', 1), ('macarons', 1), ('palm', 1), ('syrup', 1), ('tulumba', 1), ('aata', 1), ('mince', 1), ('wok', 1), ('tossed', 1), ('mild', 1), ('chiffon', 1), ('grain', 1), ('waffles', 1), ('rhubarb', 1), ('topping', 1), ('bars', 1), ('kulkuls', 1), ('lava', 1), ('scots', 1), ('star', 1), ('cosmopolitan', 1), ('tamater', 1), ('launji', 1), ('mawa', 1), ('angoor', 1), ('burfee', 1), ('machch', 1), ('rajbhog', 1), ('golden', 1), ('narkel', 1), ('naru', 1), ('sorsebata', 1), ('dompokht', 1), ('bundiyar', 1), ('brownies', 1), ('souffle', 1), ('sausage', 1), ('plait', 1), ('marshmallows', 1), ('mussalam', 1), ('mud', 1), ('cupcake', 1), ('choc', 1), ('ganache', 1), ('frosting', 1), ('jaffa', 1), ('melting', 1), ('spanakopita', 1), ('dry', 1), ('creme', 1), ('caramel', 1), ('raisin', 1), ('relish', 1), ('praline', 1), ('tarts', 1), ('marzipan', 1), ('manchurian', 1), ('jerk', 1), ('sevaiyan', 1), ('sevaiya', 1), ('nalli', 1), ('khurma', 1), ('parsi', 1), ('blackcurrant', 1), ('khorma', 1), ('russian', 1), ('quick', 1), ('shaami', 1), ('pyaaza', 1), ('koftas', 1), ('kajjikayalu', 1), ('/semolina', 1), ('gaith', 1), ('himalayan', 1), ('khaas', 1), ('malpoi', 1), ('monkey', 1), ('flavoured', 1), ('spheres', 1), ('delhi', 1), ('6', 1), ('mewa', 1), ('crushed', 1), ('rang', 1), ('rasia', 1), ('gnocchi', 1), ('sabudane', 1), ('vrat', 1), ('wale', 1), ('vratwale', 1), ('falhari', 1), ('pakore', 1), ('squares', 1), ('bhalla', 1), ('vratwali', 1), ('adrak', 1), ('(ginger', 1), ('pickle)', 1), ('singhara', 1), ('kheere', 1), ('sookhe', 1), ('singhade', 1), ('pumpkin', 1), ('kache', 1), ('sultanpur', 1), ('wild', 1), ('marquise', 1), ('poppers', 1), ('sabayon', 1), ('pannacotta', 1), ('tartlets', 1), ('strawberries', 1), ('triangle', 1), ('puff', 1), ('mexican', 1), ('cigar', 1), ('marshmallow', 1), ('popsicles', 1), ('pear', 1), ('trifle', 1), ('ice-cream', 1), ('sundae', 1), ('pastry', 1), ('two', 1), ('minute', 1), ('musk', 1), ('milkshake', 1), ('macaron', 1), ('(gluten', 1), ('brunsli', 1), ('meringue', 1), ('daiquiri', 1), ('billionaire', 1), ('tequila', 1), ('sunrise', 1), ('nazakat', 1), ('dumplings', 1), ('compressed', 1), ('sliders', 1), ('beans', 1), ('mary', 1), ('glee', 1), ('chee', 1), ('tango', 1), ('hint', 1), ('cube', 1), ('hakka', 1), ('noodles', 1), ('kanchipuram', 1), ('deviled', 1), ('faraali', 1), ('gobi', 1), ('shimla', 1), ('bhatura', 1), ('bhindi', 1), ('razala', 1), ('makhani', 1), ('fara', 1), ('bean', 1), ('mutter', 1), ('nimona', 1), ('(green', 1), ('peas', 1), ('daal)', 1), ('jaleba', 1), ('karela', 1), ('katha', 1), ('halwakadoo', 1), ('chokha', 1), ('mathura', 1), ('pede', 1), ('misi', 1), ('pyaza', 1), ('naan', 1), ('navrattan', 1), ('panjeeri', 1), ('pattor', 1), ('pinni', 1), ('chaval', 1), ('ramatori', 1), ('rongi', 1), ('samose', 1), ('tukra', 1), ('singhada', 1), ('sooji', 1), ('pethas', 1), ('jalfrezi', 1), ('attu', 1), ('bisi', 1), ('bath(karnataka)', 1), ('chettinadu', 1), ('65', 1), ('currivepillai', 1), ('dibba', 1), ('rotti', 1), ('ennai', 1), ('kathirikkai', 1), ('goli', 1), ('bajje', 1), ('idiappam(tamil', 1), ('kaara', 1), ('kozhambu(tamil', 1), ('kootu(tamil', 1), ('masiyal', 1), ('sadam(tamil', 1), ('kerala_beef_fry', 1), ('koottu', 1), ('kos', 1), ('kootu', 1), ('koshambri', 1), ('kothamali', 1), ('kuzhakkattai', 1), ('kuzhambu', 1), ('nandu', 1), ('olan', 1), ('pachadi', 1), ('paravannam', 1), ('(kerala)', 1), ('paruppu', 1), ('payasam', 1), ('pesarattu', 1), ('puli', 1), ('puttu', 1), ('mudhe', 1), ('rasam', 1), ('sakkara', 1), ('sambar', 1), ('sandige(karnataka)', 1), ('thayir', 1), ('mosaranna', 1), ('theeyal', 1), ('thengai', 1), ('uttapam', 1), ('varuval', 1), ('yelumincham', 1), ('amti', 1), ('zunka', 1), ('pitla', 1), ('kolim', 1), ('jawla', 1), ('saath', 1), ('naralachi', 1), ('khobryachi', 1), ('bajri', 1), ('bhakri', 1), ('bombil', 1), ('chakri', 1), ('chevdo', 1), ('cholafali', 1), ('chorafali', 1), ('copra', 1), ('paak', 1), ('dalithoy', 1), ('dudhi', 1), ('aaloo', 1), ('gatta', 1), ('ghari', 1), ('ghooghra', 1), ('gol', 1), ('halvasan', 1), ('handwo', 1), ('(steamed', 1), ('jeera', 1), ('juvar', 1), ('kansar', 1), ('keri', 1), ('kombdi', 1), ('vade', 1), ('koshimbir', 1), ('laapsi', 1), ('locha', 1), ('na', 1), ('gota', 1), ('mohanthal', 1), ('muthiya', 1), ('oondees', 1), ('penda', 1), ('pooran-poli', 1), ('rasya', 1), ('muthia', 1), ('khichadi', 1), ('khamani', 1), ('tameta', 1), ('shakarpara', 1), ('shiro', 1), ('soonvali', 1), ('sukhdi', 1), ('surnoli', 1), ('sutarfeni', 1), ('thalipeeth', 1), ('upmaa', 1), ('kolhapuri', 1), ('vindaloo', 1), ('mag', 1), ('khichu', 1), ('farsi', 1), ('turiya', 1), ('vatana', 1), ('sabji', 1), ('mohan', 1), ('thaal', 1), ('churma', 1), ('cheera', 1), ('dhup', 1), ('gheela', 1), ('hurum', 1), ('khar', 1), ('kumol', 1), ('loskora', 1), ('(coconut', 1), ('laddu)', 1), ('muri', 1), ('naaru', 1), ('alu', 1), ('bengena', 1), ('bilahi', 1), ('bora', 1), ('brown', 1), ('chhenagaja', 1), ('chhenapoda', 1), ('goja', 1), ('hando', 1), ('guri', 1), ('horioh', 1), ('kabiraji', 1), ('kharoli', 1), ('khorisa', 1), ('konir', 1), ('dom', 1), ('lai', 1), ('maasor', 1), ('machher', 1), ('koni', 1), ('petu', 1), ('chholar', 1), ('ou', 1), ('payokh', 1), ('rosgulla', 1), ('shondesh', 1), ('shukto', 1), ('mughlai', 1), ('gujarati', 1), ('balushahi', 1), ('motichoor', 1), ('nankhatai', 1), ('sheera', 1), ('singori', 1), ('gaja', 1), ('kheeri', 1), ('poda', 1), ('sagar', 1), ('ledikeni', 1), ('lyangcha', 1), ('(dessert)', 1), ('mihidana', 1), ('misti', 1), ('rasabali', 1), ('adhirasam', 1), ('bandar', 1), ('dharwad', 1), ('pedha', 1), ('gavvalu', 1), ('jaangiri', 1), ('kakinada', 1), ('kuzhi', 1), ('palathalikalu', 1), ('qubani', 1), ('unni', 1), ('kajjikaya', 1), ('dhondas', 1), ('mahim', 1), ('sutar', 1), ('feni', 1), ('aappam', 1), ('ariselu/adhirasam/arisha', 1), ('batata', 1), ('bhajia', 1), ('bhakarwadi', 1), ('bhelpuri', 1), ('bhoonja', 1), ('bikaneri', 1), ('bhujia', 1), ('kulche', 1), ('flattened', 1), ('ghever', 1), ('ghugni', 1), ('indian-mix', 1), ('jhal-muŗi', 1), ('kalathappam', 1), ('kati', 1), ('kinnathappam', 1), ('kosambari', 1), ('lukhmi', 1), ('maddur', 1), ('makka', 1), ('mangalore', 1), ('mirchi', 1), ('namkeen', 1), ('neyyappam', 1), ('pakora', 1), ('pakwan', 1), ('palappam', 1), ('papri', 1), ('piyaju', 1), ('(maharashtrian)', 1), ('ponganalu', 1), ('puffs', 1), ('punugulu', 1), ('ros', 1), ('sakinalu', 1), ('sarva', 1), ('mamra', 1), ('tele-bhaja', 1), ('(bengal)', 1), ('vadai', 1)]\n"
     ]
    }
   ],
   "source": [
    "from collections import Counter\n",
    "l = []\n",
    "for i in range(df.shape[0]):\n",
    "    s = df.loc[i,'Name'].split()\n",
    "    for j in s:\n",
    "        l.append(j.lower())\n",
    "    \n",
    "d = Counter(l)\n",
    "print(sorted(d.items(),key = lambda x:x[1],reverse=True))"
   ]
  },
  {
   "cell_type": "markdown",
   "metadata": {},
   "source": [
    "lets take values with count > 5"
   ]
  },
  {
   "cell_type": "code",
   "execution_count": 27,
   "metadata": {},
   "outputs": [
    {
     "name": "stdout",
     "output_type": "stream",
     "text": [
      "['and', 'chicken', 'with', 'ki', 'almond', 'chocolate', 'ka', 'kheer', 'cake', 'curry', 'rice', 'biryani', 'halwa', 'fish', 'aloo', 'mutton', 'cookies', 'baked', '&amp;', 'kebab', 'christmas', 'ladoo', 'badam', 'strawberry', 'apple', 'salad', 'tikka', 'lamb', 'soup', 'banana', 'vada', 'bread', 'sauce', 'kaju', 'paneer', 'prawn', 'aur', 'barfi', 'puri', 'mango', 'thandai', 'masala', 'coconut', 'dahi', 'fried', 'pizza', 'roll', 'fruit', 'ragi', 'phirni', 'red', 'modak', 'rasmalai', 'grilled', 'vegetable', 'dal', 'malai', 'gosht', 'lemon', 'kofta', 'gujiya', 'pasta', 'ke', 'of', 'white', 'pulao', 'methi', '(laddu)', 'sweet', 'poha', 'butter', 'dosa', 'carrot', 'chaat', 'spiced', 'meat', 'jamun', 'kebabs', 'kulfi', 'gajar', 'in', 'korma', 'pista', 'gulab', 'khichdi', 'palak', 'roti', 'roast', 'tikki', 'tricolor', 'thai', 'cheese', 'matar', 'smoothie', 'cranberry', 'raw', 'kesari', 'sabudana', 'rabdi', 'fudge', 'berry', 'andhra', 'seekh', 'fizz', 'coffee', 'maas', 'paratha', 'summer', 'cream', 'quinoa', 'free)', 'green', 'lauki', 'walnut', 'spicy', 'potato', 'beetroot', 'bunny', 'kanji', 'anjeer', 'samosa', 'kachori', 'gulkand', 'risotto', 'rose', 'margarita', 'murgh', 'fry', 'khas', 'pongal', 'honey', 'corn', 'nuts', 'roasted', '(sugar', 'namak', 'para', 'dates', 'spinach', 'sev', 'mixed', 'pan', 'style', 'lovers', 'stollen', 'cardamom', 'dome', 'sangria', 'tart', 'winter', 'chawal', 'arbi', 'mushroom', 'valencia', 'tiramisu', 'tea', 'egg', 'pie', 'vermicelli', 'parantha', 'kulcha', 'khaja', 'rabri', 'jalebi', 'bhaji', '/', 'chilli', 'tricolour', 'chikki', 'zucchini', 'gluten-free', 'barley', 'parfait', 'the', 'raspberry', 'free', 'chakli', 'dip', 'shankarpali', 'dessert', 'cashew', 'tomato', 'soya', 'stuffed', 'chana', 'steam', 'bao', 'peda', 'tiranga', 'tree', 'german', 'boti', 'pav', 'idli', 'seed', 'saffron', 'love', 'chutney', 'cocktail', 'mint', 'garlic', 'turkey', 'microwave', 'wrapped', 'keema', 'shami', 'atta', 'tenga', 'kuttu', 'poori', 'madata', 'ghevar', 'pancakes', 'pudding', 'double', 'papad', 'meetha', 'nadu)', 'pitha']\n"
     ]
    }
   ],
   "source": [
    "l = [i[0] for i in sorted(d.items(),key = lambda x:x[1],reverse=True) if i[1]>5]\n",
    "print(l)"
   ]
  },
  {
   "cell_type": "code",
   "execution_count": 28,
   "metadata": {},
   "outputs": [],
   "source": [
    "l = ['chicken', 'almond', 'chocolate', 'kheer', 'cake', 'curry', 'rice', 'biryani', 'halwa', 'fish', 'aloo', 'mutton',\n",
    "    \n",
    "     'cookies', 'baked', 'kebab', 'christmas', 'ladoo', 'badam', 'strawberry', 'apple', 'salad', 'tikka', 'lamb',\n",
    "     \n",
    "     'soup', 'banana', 'vada', 'bread', 'sauce', 'kaju', 'paneer', 'prawn', 'barfi', 'mango', 'thandai', 'coconut',\n",
    "     \n",
    "     'dahi', 'pizza', 'modak', 'rasmalai', 'dal', 'malai', 'gosht', 'kofta', 'gujiya', 'pasta', \n",
    "     \n",
    "     'pulao', 'methi',  'poha', 'butter', 'dosa', 'carrot', 'chaat','kebabs', 'kulfi', 'gajar',\n",
    "     \n",
    "     'korma', 'pista', 'gulab', 'khichdi', 'palak', 'roti', 'roast', 'tikki','cheese', 'matar', 'smoothie',\n",
    "     \n",
    "     'cranberry', 'sabudana', 'rabdi', 'berry', 'coffee','paratha', 'walnut', 'spicy', 'potato', 'beetroot',\n",
    "     \n",
    "      'anjeer', 'samosa', 'kachori', 'gulkand', 'risotto', 'margarita','honey', 'corn', 'nuts', 'roasted', \n",
    "     \n",
    "      'spinach', 'sev','cardamom', 'dome', 'sangria','chawal', 'arbi', 'mushroom', 'tea', 'egg', 'pie',\n",
    "     \n",
    "      'parantha', 'kulcha', 'khaja', 'rabri', 'jalebi', 'bhaji','chilli', 'tricolour', 'chikki', 'zucchini',\n",
    "     \n",
    "     'gluten-free', 'barley', 'raspberry', 'chakli', 'dip', 'shankarpali', 'dessert', 'cashew', 'tomato', 'soya',\n",
    "     \n",
    "     'stuffed', 'chana', 'steam', 'bao', 'peda', 'tiranga', 'pav', 'idli', 'seed', 'saffron', 'love', 'chutney',\n",
    "     \n",
    "     'cocktail', 'mint', 'garlic', 'turkey', 'microwave', 'wrapped', 'keema', 'shami',\n",
    "     \n",
    "     'ghevar', 'pancakes', 'pudding', 'papad',]\n",
    "\n",
    "\n",
    "for i in range(df.shape[0]):\n",
    "    \n",
    "    if str(df.loc[i,'catagory']) == 'nan':\n",
    "        s = df.loc[i,'Name'].split()\n",
    "        for j in s:\n",
    "            if j.lower() in l:\n",
    "                df.loc[i,'catagory'] = j.lower()\n",
    "        "
   ]
  },
  {
   "cell_type": "code",
   "execution_count": 29,
   "metadata": {},
   "outputs": [
    {
     "name": "stdout",
     "output_type": "stream",
     "text": [
      "Catagory column with null values (606, 8)\n"
     ]
    }
   ],
   "source": [
    "print('Catagory column with null values',df[df['catagory'].isnull()].shape)"
   ]
  },
  {
   "cell_type": "markdown",
   "metadata": {},
   "source": [
    "still there are many lets take more"
   ]
  },
  {
   "cell_type": "code",
   "execution_count": 30,
   "metadata": {},
   "outputs": [
    {
     "name": "stdout",
     "output_type": "stream",
     "text": [
      "['minced', 'sakkarai', 'japanese', 'arancini', 'broccoli', 'on', 'shorba', 'gluten', 'galawat', 'namakpara', 'checkerboard', 'multigrain', 'murukku', 'scotch', 'lentil', 'kahwa', 'kiwi', 'oats', 'wings', 'classic', 'momos', '(without', 'shell)', 'gajak', 'ca', 'cang', 'kho', 'yera', 'sukha', 'salmon', 'tulsi', 'ajwain', 'kalmi', 'pesto', 'reshmi', 'bites', 'vegetarian', 'appam', 'basil', 'pithe', 'warm', 'kinnu', 'punch', 'slow', 'cooked', 'fig', 'holi', 'special', 'spanish', 'milk', 'fresh', 'cappuccino', 'braised', 'plum', 'char', 'minar', 'raan', 'tawa', 'kadai', 'kofte', 'malabari', 'coriander', 'morning', 'greed', 'goan', 'masor', 'mousse', 'chingri', 'veg', 'pistachio', 'kalakand', '(vrat)', 'upma', 'dundee', 'balsamic', 'multi-layered', 'gehun', 'sushi', 'khoya', 'whole', 'breeze', 'panacotta', 'eggless', 'easter', 'kashmiri', 'khus', 'besan', 'sohan', 'panjiri', 'malpua', 'payesh', 'imarti', 'atte', 'petha', 'omelette', 'no', 'laddu', 'chhena', 'almonds', 'chargrilled', 'bell', 'glazed', 'sous', 'vide', 'cob', 'watermelon', 'polenta', 'recipe', 'som', 'tam', 'tangy', 'amaranth', 'moong', 'missi', 'lotus', 'root', 'quesadilla', 'dragon', 'fire', 'argentino', 'belgian', 'chop', 'moonglet', 'lasooni', '(fried', 'pakori', 'zaitooni', 'croquettes', 'beyond', 'ozone', 'prunes', 'gujiyas', 'hariyali', 'apricot', 'gokul', 'shower', 'devils', 'onion', 'gur', 'maple', 'ice', 'desi', 'gobhi', 'mastani', 'drink', 'hot', 'mocha', 'whisky', 'bourbon', 'haldi', 'irish', 'old', 'fashioned', 'filter', 'boondi', 'murg', 'bemisal', 'mummy', 'amritsari', 'cauliflower', 'rum', 'fritters', 'seared', 'crab', 'cajun', 'bacon', 'mongolian', 'balls', 'haleem', 'chops', 'bhuni', 'hokh', 'hund', 'marchwangan', 'portugese', 'surmai', 'shrimp', 'fingers', 'rava', 'ada', 'pineapple', 'bruschetta', 'breton', 'luchi', 'upside', 'down', 'dinner', 'di', '(puri)', 'tukda', 'parotta', 'poppy', 'brownie', 'macaroons', 'crunch', 'fennel', 'crumble', 'ajwaini', 'ruwangan', 'chaman', 'valentine', 'hazelnut', 'sable', 'ravioli', 'texture', 'turkish', 'fall', 'vanilla', 'cinnamon', 'cookie', 'indian', 'bedmi', 'raseele', 'suji', 'zaffrani', 'nariyal', 'aanarsa', 'assorted', 'yogurt', 'creamy', 'sheer', 'pakode', 'kele', 'thepla', 'bonda', 'singhare', 'jalapeno', 'makki', 'chole', 'daal', 'pani', 'keerai', 'vadi', 'basundi', 'dhokli', 'dhokla', 'pohe', 'papdi', 'ras', 'main', 'article', 'american', 'ancient']\n"
     ]
    }
   ],
   "source": [
    "from collections import Counter\n",
    "l = []\n",
    "for i in range(df.shape[0]):\n",
    "    s = df.loc[i,'Name'].split()\n",
    "    for j in s:\n",
    "        l.append(j.lower())\n",
    "    \n",
    "d = Counter(l)\n",
    "sorted(d.items(),key = lambda x:x[1],reverse=True)\n",
    "l = [i[0] for i in sorted(d.items(),key = lambda x:x[1],reverse=True) if i[1]<5 and i[1]>2]\n",
    "print(l)\n"
   ]
  },
  {
   "cell_type": "code",
   "execution_count": 31,
   "metadata": {},
   "outputs": [
    {
     "name": "stdout",
     "output_type": "stream",
     "text": [
      "Catagory column with null values (469, 8)\n"
     ]
    }
   ],
   "source": [
    "l = ['broccoli',  'shorba', 'gluten', 'scotch', 'lentil', 'kahwa', 'kiwi', 'oats', 'wings', 'momos',\n",
    "     \n",
    "     'gajak','salmon', 'appam', 'basil', 'pithe', 'warm', 'kinnu', 'punch', 'spanish', 'milk', 'fresh', 'cappuccino',\n",
    "     \n",
    "      'plum','tawa', 'kadai', 'kofte', 'malabari', 'coriander','pistachio', 'kalakand', '(vrat)', 'upma', 'dundee',\n",
    "     \n",
    "     'gehun', 'sushi', 'khoya','panacotta', 'eggless', 'easter', 'kashmiri', 'khus', 'besan', 'sohan', 'panjiri',\n",
    "     \n",
    "     'malpua', 'payesh', 'imarti', 'atte', 'petha', 'omelette','laddu', 'chhena', 'almonds', 'chargrilled', 'bell',\n",
    "     \n",
    "     'glazed', 'watermelon', 'polenta', 'recipe', 'som', 'tam', 'tangy', 'amaranth', 'moong', 'missi', \n",
    "     \n",
    "     'quesadilla', 'dragon', 'fire', 'argentino', 'belgian', 'chop', 'moonglet', 'lasooni', \n",
    "     \n",
    "      'pakori', 'zaitooni', 'croquettes','gujiyas', 'hariyali', 'apricot', 'gokul', 'shower', 'devils', 'onion',\n",
    "     \n",
    "     'gur', 'maple', 'ice', 'desi', 'gobhi', 'mastani', 'drink', 'hot', 'mocha', 'whisky', 'bourbon', 'irish',\n",
    "     \n",
    "     'boondi','amritsari', 'cauliflower', 'rum', 'fritters', 'seared', 'crab', 'cajun', 'bacon', 'mongolian', \n",
    "     \n",
    "     \n",
    "     \n",
    "     'rava', 'pineapple', 'bruschetta', 'breton', 'luchi',\n",
    "     \n",
    "     'parotta', 'poppy', 'brownie', 'macaroons', 'crunch','turkish','vanilla', 'cinnamon', 'cookie', 'indian',\n",
    "     \n",
    "     'bedmi', 'raseele', 'suji', 'zaffrani', 'nariyal', 'aanarsa', 'assorted', 'yogurt', 'creamy', 'sheer',\n",
    "     \n",
    "     'pakode', 'kele', 'thepla', 'bonda', 'singhare', 'jalapeno', 'makki', 'chole', 'daal', 'pani', 'keerai',\n",
    "     \n",
    "     'vadi', 'basundi', 'dhokli', 'dhokla', 'pohe', 'papdi', 'ras']\n",
    "\n",
    "for i in range(df.shape[0]):\n",
    "    \n",
    "    if str(df.loc[i,'catagory']) == 'nan':\n",
    "        s = df.loc[i,'Name'].split()\n",
    "        for j in s:\n",
    "            if j.lower() in l:\n",
    "                df.loc[i,'catagory'] = j.lower()\n",
    "                \n",
    "print('Catagory column with null values',df[df['catagory'].isnull()].shape)"
   ]
  },
  {
   "cell_type": "markdown",
   "metadata": {},
   "source": [
    "### lets fill others by using description"
   ]
  },
  {
   "cell_type": "code",
   "execution_count": 32,
   "metadata": {},
   "outputs": [],
   "source": [
    "l = ['chicken', 'almond', 'chocolate', 'kheer', 'cake', 'curry', 'rice', 'biryani', 'halwa', 'fish', 'aloo', 'mutton',\n",
    "    \n",
    "     'cookies', 'baked', 'kebab', 'christmas', 'ladoo', 'badam', 'strawberry', 'apple', 'salad', 'tikka', 'lamb',\n",
    "     \n",
    "     'soup', 'banana', 'vada', 'bread', 'sauce', 'kaju', 'paneer', 'prawn', 'barfi', 'mango', 'thandai', 'coconut',\n",
    "     \n",
    "     'dahi', 'pizza', 'modak', 'rasmalai', 'dal', 'malai', 'gosht', 'kofta', 'gujiya', 'pasta', \n",
    "     \n",
    "     'pulao', 'methi',  'poha', 'butter', 'dosa', 'carrot', 'chaat','kebabs', 'kulfi', 'gajar',\n",
    "     \n",
    "     'korma', 'pista', 'gulab', 'khichdi', 'palak', 'roti', 'roast', 'tikki','cheese', 'matar', 'smoothie',\n",
    "     \n",
    "     'cranberry', 'sabudana', 'rabdi', 'berry', 'coffee','paratha', 'walnut', 'spicy', 'potato', 'beetroot',\n",
    "     \n",
    "      'anjeer', 'samosa', 'kachori', 'gulkand', 'risotto', 'margarita','honey', 'corn', 'nuts', 'roasted', \n",
    "     \n",
    "      'spinach', 'sev','cardamom', 'dome', 'sangria','chawal', 'arbi', 'mushroom', 'tea', 'egg', 'pie',\n",
    "     \n",
    "      'parantha', 'kulcha', 'khaja', 'rabri', 'jalebi', 'bhaji','chilli', 'tricolour', 'chikki', 'zucchini',\n",
    "     \n",
    "     'gluten-free', 'barley', 'raspberry', 'chakli', 'dip', 'shankarpali', 'dessert', 'cashew', 'tomato', 'soya',\n",
    "     \n",
    "     'stuffed', 'chana', 'steam', 'bao', 'peda', 'tiranga', 'pav', 'idli', 'seed', 'saffron', 'love', 'chutney',\n",
    "     \n",
    "     'cocktail', 'mint', 'garlic', 'turkey', 'microwave', 'wrapped', 'keema', 'shami',\n",
    "     \n",
    "     'ghevar', 'pancakes', 'pudding', 'papad',]\n",
    "\n",
    "for i in range(df.shape[0]):\n",
    "    \n",
    "    if str(df.loc[i,'catagory']) == 'nan':\n",
    "        if len(str(df.loc[i,'description']))>2:\n",
    "            s = str(df.loc[i,'description']).split()\n",
    "            for j in s:\n",
    "                if j.lower() in l:\n",
    "                    df.loc[i,'catagory'] = j.lower()"
   ]
  },
  {
   "cell_type": "code",
   "execution_count": 33,
   "metadata": {},
   "outputs": [
    {
     "name": "stdout",
     "output_type": "stream",
     "text": [
      "Catagory column with null values (242, 8)\n"
     ]
    }
   ],
   "source": [
    "print('Catagory column with null values',df[df['catagory'].isnull()].shape)"
   ]
  },
  {
   "cell_type": "code",
   "execution_count": 34,
   "metadata": {},
   "outputs": [],
   "source": [
    "l = ['broccoli',  'shorba', 'gluten', 'scotch', 'lentil', 'kahwa', 'kiwi', 'oats', 'wings', 'momos',\n",
    "     \n",
    "     'gajak','salmon', 'appam', 'basil', 'pithe', 'warm', 'kinnu', 'punch', 'spanish', 'milk', 'fresh', 'cappuccino',\n",
    "     \n",
    "      'plum','tawa', 'kadai', 'kofte', 'malabari', 'coriander','pistachio', 'kalakand', '(vrat)', 'upma', 'dundee',\n",
    "     \n",
    "     'gehun', 'sushi', 'khoya','panacotta', 'eggless', 'easter', 'kashmiri', 'khus', 'besan', 'sohan', 'panjiri',\n",
    "     \n",
    "     'malpua', 'payesh', 'imarti', 'atte', 'petha', 'omelette','laddu', 'chhena', 'almonds', 'chargrilled', 'bell',\n",
    "     \n",
    "     'glazed', 'watermelon', 'polenta', 'recipe', 'som', 'tam', 'tangy', 'amaranth', 'moong', 'missi', \n",
    "     \n",
    "     'quesadilla', 'dragon', 'fire', 'argentino', 'belgian', 'chop', 'moonglet', 'lasooni', \n",
    "     \n",
    "      'pakori', 'zaitooni', 'croquettes','gujiyas', 'hariyali', 'apricot', 'gokul', 'shower', 'devils', 'onion',\n",
    "     \n",
    "     'gur', 'maple', 'ice', 'desi', 'gobhi', 'mastani', 'drink', 'hot', 'mocha', 'whisky', 'bourbon', 'irish',\n",
    "     \n",
    "     'boondi','amritsari', 'cauliflower', 'rum', 'fritters', 'seared', 'crab', 'cajun', 'bacon', 'mongolian', \n",
    "     \n",
    "     \n",
    "     \n",
    "     'rava', 'pineapple', 'bruschetta', 'breton', 'luchi',\n",
    "     \n",
    "     'parotta', 'poppy', 'brownie', 'macaroons', 'crunch','turkish','vanilla', 'cinnamon', 'cookie', 'indian',\n",
    "     \n",
    "     'bedmi', 'raseele', 'suji', 'zaffrani', 'nariyal', 'aanarsa', 'assorted', 'yogurt', 'creamy', 'sheer',\n",
    "     \n",
    "     'pakode', 'kele', 'thepla', 'bonda', 'singhare', 'jalapeno', 'makki', 'chole', 'daal', 'pani', 'keerai',\n",
    "     \n",
    "     'vadi', 'basundi', 'dhokli', 'dhokla', 'pohe', 'papdi', 'ras']\n",
    "for i in range(df.shape[0]):\n",
    "    \n",
    "    if str(df.loc[i,'catagory']) == 'nan':\n",
    "        if len(str(df.loc[i,'description']))>2:\n",
    "            s = str(df.loc[i,'description']).split()\n",
    "            for j in s:\n",
    "                if j.lower() in l:\n",
    "                    df.loc[i,'catagory'] = j.lower()"
   ]
  },
  {
   "cell_type": "code",
   "execution_count": 35,
   "metadata": {},
   "outputs": [
    {
     "name": "stdout",
     "output_type": "stream",
     "text": [
      "Catagory column with null values (200, 8)\n"
     ]
    }
   ],
   "source": [
    "print('Catagory column with null values',df[df['catagory'].isnull()].shape)"
   ]
  },
  {
   "cell_type": "markdown",
   "metadata": {},
   "source": [
    "### Clearly we have a fine dataset to works with\n",
    "- we can fill columns like sub_catagory as we did for catagory\n",
    "- Also we can fill nutrient column by the help of name and catagory and their nutrient\n",
    "- try it out!"
   ]
  },
  {
   "cell_type": "code",
   "execution_count": 36,
   "metadata": {},
   "outputs": [
    {
     "data": {
      "text/html": [
       "<div>\n",
       "<style scoped>\n",
       "    .dataframe tbody tr th:only-of-type {\n",
       "        vertical-align: middle;\n",
       "    }\n",
       "\n",
       "    .dataframe tbody tr th {\n",
       "        vertical-align: top;\n",
       "    }\n",
       "\n",
       "    .dataframe thead th {\n",
       "        text-align: right;\n",
       "    }\n",
       "</style>\n",
       "<table border=\"1\" class=\"dataframe\">\n",
       "  <thead>\n",
       "    <tr style=\"text-align: right;\">\n",
       "      <th></th>\n",
       "      <th>Name</th>\n",
       "      <th>catagory</th>\n",
       "      <th>description</th>\n",
       "      <th>sub_catagory</th>\n",
       "      <th>Veg_Non</th>\n",
       "      <th>Review</th>\n",
       "      <th>Nutrient</th>\n",
       "      <th>Price</th>\n",
       "    </tr>\n",
       "  </thead>\n",
       "  <tbody>\n",
       "    <tr>\n",
       "      <th>0</th>\n",
       "      <td>Summer Squash Salad</td>\n",
       "      <td>salad</td>\n",
       "      <td>Key Ingredients: white balsamic vinegar, lemon...</td>\n",
       "      <td>healthy</td>\n",
       "      <td>veg</td>\n",
       "      <td>5</td>\n",
       "      <td>Fiber</td>\n",
       "      <td>230</td>\n",
       "    </tr>\n",
       "    <tr>\n",
       "      <th>1</th>\n",
       "      <td>Chicken Minced Salad</td>\n",
       "      <td>salad</td>\n",
       "      <td>Key Ingredients: olive oil, chicken mince, gar...</td>\n",
       "      <td>healthy</td>\n",
       "      <td>non-veg</td>\n",
       "      <td>3</td>\n",
       "      <td>Fiber</td>\n",
       "      <td>265</td>\n",
       "    </tr>\n",
       "    <tr>\n",
       "      <th>2</th>\n",
       "      <td>Sweet Chilli Almonds</td>\n",
       "      <td>chilli</td>\n",
       "      <td>Key Ingredients: almonds whole, egg white, cur...</td>\n",
       "      <td>healthy</td>\n",
       "      <td>veg</td>\n",
       "      <td>2</td>\n",
       "      <td>Vitamin_A</td>\n",
       "      <td>200</td>\n",
       "    </tr>\n",
       "    <tr>\n",
       "      <th>3</th>\n",
       "      <td>Tricolour Salad</td>\n",
       "      <td>salad</td>\n",
       "      <td>Key Ingredients: vinegar, honey/sugar, soy sau...</td>\n",
       "      <td>healthy</td>\n",
       "      <td>veg</td>\n",
       "      <td>2</td>\n",
       "      <td>Fiber</td>\n",
       "      <td>220</td>\n",
       "    </tr>\n",
       "    <tr>\n",
       "      <th>4</th>\n",
       "      <td>Sakkarai Pongal</td>\n",
       "      <td>coconut</td>\n",
       "      <td>Key Ingredients: rice, yellow moong dal, milk,...</td>\n",
       "      <td>healthy</td>\n",
       "      <td>veg</td>\n",
       "      <td>1</td>\n",
       "      <td>NaN</td>\n",
       "      <td>470</td>\n",
       "    </tr>\n",
       "    <tr>\n",
       "      <th>5</th>\n",
       "      <td>Gulab Badam Chikki</td>\n",
       "      <td>chikki</td>\n",
       "      <td>Key Ingredients: butter, sugar, salt, almonds,...</td>\n",
       "      <td>healthy</td>\n",
       "      <td>veg</td>\n",
       "      <td>3</td>\n",
       "      <td>NaN</td>\n",
       "      <td>405</td>\n",
       "    </tr>\n",
       "    <tr>\n",
       "      <th>6</th>\n",
       "      <td>Zucchini Halwa</td>\n",
       "      <td>halwa</td>\n",
       "      <td>Key Ingredients: zucchini, full fat milk, ghee...</td>\n",
       "      <td>healthy</td>\n",
       "      <td>veg</td>\n",
       "      <td>4</td>\n",
       "      <td>NaN</td>\n",
       "      <td>595</td>\n",
       "    </tr>\n",
       "    <tr>\n",
       "      <th>7</th>\n",
       "      <td>Gluten-Free Christmas Cake</td>\n",
       "      <td>cake</td>\n",
       "      <td>Key Ingredients: Christmas dry fruits (pre-soa...</td>\n",
       "      <td>healthy</td>\n",
       "      <td>veg</td>\n",
       "      <td>3</td>\n",
       "      <td>Vitamin_A</td>\n",
       "      <td>270</td>\n",
       "    </tr>\n",
       "    <tr>\n",
       "      <th>8</th>\n",
       "      <td>Japanese Curry Arancini With  Barley Salsa</td>\n",
       "      <td>barley</td>\n",
       "      <td>Key Ingredients: japanese curry, sticky rice, ...</td>\n",
       "      <td>healthy</td>\n",
       "      <td>veg</td>\n",
       "      <td>5</td>\n",
       "      <td>Calcium</td>\n",
       "      <td>255</td>\n",
       "    </tr>\n",
       "    <tr>\n",
       "      <th>9</th>\n",
       "      <td>Chocolate Nero Cookies</td>\n",
       "      <td>cookie</td>\n",
       "      <td>Key Ingredients: almonds, eggs, granulated sug...</td>\n",
       "      <td>healthy</td>\n",
       "      <td>veg</td>\n",
       "      <td>2</td>\n",
       "      <td>Magnesium</td>\n",
       "      <td>255</td>\n",
       "    </tr>\n",
       "  </tbody>\n",
       "</table>\n",
       "</div>"
      ],
      "text/plain": [
       "                                          Name catagory  \\\n",
       "0                         Summer Squash Salad     salad   \n",
       "1                        Chicken Minced Salad     salad   \n",
       "2                        Sweet Chilli Almonds    chilli   \n",
       "3                             Tricolour Salad     salad   \n",
       "4                             Sakkarai Pongal   coconut   \n",
       "5                          Gulab Badam Chikki    chikki   \n",
       "6                              Zucchini Halwa     halwa   \n",
       "7                  Gluten-Free Christmas Cake      cake   \n",
       "8  Japanese Curry Arancini With  Barley Salsa    barley   \n",
       "9                      Chocolate Nero Cookies    cookie   \n",
       "\n",
       "                                         description sub_catagory  Veg_Non  \\\n",
       "0  Key Ingredients: white balsamic vinegar, lemon...      healthy      veg   \n",
       "1  Key Ingredients: olive oil, chicken mince, gar...      healthy  non-veg   \n",
       "2  Key Ingredients: almonds whole, egg white, cur...      healthy      veg   \n",
       "3  Key Ingredients: vinegar, honey/sugar, soy sau...      healthy      veg   \n",
       "4  Key Ingredients: rice, yellow moong dal, milk,...      healthy      veg   \n",
       "5  Key Ingredients: butter, sugar, salt, almonds,...      healthy      veg   \n",
       "6  Key Ingredients: zucchini, full fat milk, ghee...      healthy      veg   \n",
       "7  Key Ingredients: Christmas dry fruits (pre-soa...      healthy      veg   \n",
       "8  Key Ingredients: japanese curry, sticky rice, ...      healthy      veg   \n",
       "9  Key Ingredients: almonds, eggs, granulated sug...      healthy      veg   \n",
       "\n",
       "   Review   Nutrient  Price  \n",
       "0       5      Fiber    230  \n",
       "1       3      Fiber    265  \n",
       "2       2  Vitamin_A    200  \n",
       "3       2      Fiber    220  \n",
       "4       1        NaN    470  \n",
       "5       3        NaN    405  \n",
       "6       4        NaN    595  \n",
       "7       3  Vitamin_A    270  \n",
       "8       5    Calcium    255  \n",
       "9       2  Magnesium    255  "
      ]
     },
     "execution_count": 36,
     "metadata": {},
     "output_type": "execute_result"
    }
   ],
   "source": [
    "df.head(10)"
   ]
  },
  {
   "cell_type": "code",
   "execution_count": 37,
   "metadata": {},
   "outputs": [
    {
     "name": "stdout",
     "output_type": "stream",
     "text": [
      "<class 'pandas.core.frame.DataFrame'>\n",
      "RangeIndex: 1951 entries, 0 to 1950\n",
      "Data columns (total 8 columns):\n",
      "Name            1951 non-null object\n",
      "catagory        1751 non-null object\n",
      "description     1815 non-null object\n",
      "sub_catagory    1181 non-null object\n",
      "Veg_Non         1951 non-null object\n",
      "Review          1951 non-null int64\n",
      "Nutrient        1174 non-null object\n",
      "Price           1951 non-null int64\n",
      "dtypes: int64(2), object(6)\n",
      "memory usage: 122.0+ KB\n"
     ]
    }
   ],
   "source": [
    "df.info()"
   ]
  },
  {
   "cell_type": "code",
   "execution_count": 38,
   "metadata": {},
   "outputs": [
    {
     "data": {
      "text/html": [
       "<div>\n",
       "<style scoped>\n",
       "    .dataframe tbody tr th:only-of-type {\n",
       "        vertical-align: middle;\n",
       "    }\n",
       "\n",
       "    .dataframe tbody tr th {\n",
       "        vertical-align: top;\n",
       "    }\n",
       "\n",
       "    .dataframe thead th {\n",
       "        text-align: right;\n",
       "    }\n",
       "</style>\n",
       "<table border=\"1\" class=\"dataframe\">\n",
       "  <thead>\n",
       "    <tr style=\"text-align: right;\">\n",
       "      <th></th>\n",
       "      <th>Name</th>\n",
       "      <th>catagory</th>\n",
       "      <th>description</th>\n",
       "      <th>sub_catagory</th>\n",
       "      <th>Veg_Non</th>\n",
       "      <th>Review</th>\n",
       "      <th>Nutrient</th>\n",
       "      <th>Price</th>\n",
       "    </tr>\n",
       "  </thead>\n",
       "  <tbody>\n",
       "    <tr>\n",
       "      <th>count</th>\n",
       "      <td>1951</td>\n",
       "      <td>1751</td>\n",
       "      <td>1815</td>\n",
       "      <td>1181</td>\n",
       "      <td>1951</td>\n",
       "      <td>1951.000000</td>\n",
       "      <td>1174</td>\n",
       "      <td>1951.000000</td>\n",
       "    </tr>\n",
       "    <tr>\n",
       "      <th>unique</th>\n",
       "      <td>1278</td>\n",
       "      <td>211</td>\n",
       "      <td>1286</td>\n",
       "      <td>16</td>\n",
       "      <td>2</td>\n",
       "      <td>NaN</td>\n",
       "      <td>19</td>\n",
       "      <td>NaN</td>\n",
       "    </tr>\n",
       "    <tr>\n",
       "      <th>top</th>\n",
       "      <td>Red Rice Vermicelli Kheer</td>\n",
       "      <td>rice</td>\n",
       "      <td>Sweet</td>\n",
       "      <td>desserts</td>\n",
       "      <td>veg</td>\n",
       "      <td>NaN</td>\n",
       "      <td>Iron</td>\n",
       "      <td>NaN</td>\n",
       "    </tr>\n",
       "    <tr>\n",
       "      <th>freq</th>\n",
       "      <td>7</td>\n",
       "      <td>121</td>\n",
       "      <td>16</td>\n",
       "      <td>156</td>\n",
       "      <td>1646</td>\n",
       "      <td>NaN</td>\n",
       "      <td>242</td>\n",
       "      <td>NaN</td>\n",
       "    </tr>\n",
       "    <tr>\n",
       "      <th>mean</th>\n",
       "      <td>NaN</td>\n",
       "      <td>NaN</td>\n",
       "      <td>NaN</td>\n",
       "      <td>NaN</td>\n",
       "      <td>NaN</td>\n",
       "      <td>3.062532</td>\n",
       "      <td>NaN</td>\n",
       "      <td>448.275243</td>\n",
       "    </tr>\n",
       "    <tr>\n",
       "      <th>std</th>\n",
       "      <td>NaN</td>\n",
       "      <td>NaN</td>\n",
       "      <td>NaN</td>\n",
       "      <td>NaN</td>\n",
       "      <td>NaN</td>\n",
       "      <td>1.421875</td>\n",
       "      <td>NaN</td>\n",
       "      <td>146.468201</td>\n",
       "    </tr>\n",
       "    <tr>\n",
       "      <th>min</th>\n",
       "      <td>NaN</td>\n",
       "      <td>NaN</td>\n",
       "      <td>NaN</td>\n",
       "      <td>NaN</td>\n",
       "      <td>NaN</td>\n",
       "      <td>1.000000</td>\n",
       "      <td>NaN</td>\n",
       "      <td>200.000000</td>\n",
       "    </tr>\n",
       "    <tr>\n",
       "      <th>25%</th>\n",
       "      <td>NaN</td>\n",
       "      <td>NaN</td>\n",
       "      <td>NaN</td>\n",
       "      <td>NaN</td>\n",
       "      <td>NaN</td>\n",
       "      <td>2.000000</td>\n",
       "      <td>NaN</td>\n",
       "      <td>320.000000</td>\n",
       "    </tr>\n",
       "    <tr>\n",
       "      <th>50%</th>\n",
       "      <td>NaN</td>\n",
       "      <td>NaN</td>\n",
       "      <td>NaN</td>\n",
       "      <td>NaN</td>\n",
       "      <td>NaN</td>\n",
       "      <td>3.000000</td>\n",
       "      <td>NaN</td>\n",
       "      <td>455.000000</td>\n",
       "    </tr>\n",
       "    <tr>\n",
       "      <th>75%</th>\n",
       "      <td>NaN</td>\n",
       "      <td>NaN</td>\n",
       "      <td>NaN</td>\n",
       "      <td>NaN</td>\n",
       "      <td>NaN</td>\n",
       "      <td>4.000000</td>\n",
       "      <td>NaN</td>\n",
       "      <td>575.000000</td>\n",
       "    </tr>\n",
       "    <tr>\n",
       "      <th>max</th>\n",
       "      <td>NaN</td>\n",
       "      <td>NaN</td>\n",
       "      <td>NaN</td>\n",
       "      <td>NaN</td>\n",
       "      <td>NaN</td>\n",
       "      <td>5.000000</td>\n",
       "      <td>NaN</td>\n",
       "      <td>695.000000</td>\n",
       "    </tr>\n",
       "  </tbody>\n",
       "</table>\n",
       "</div>"
      ],
      "text/plain": [
       "                              Name catagory description sub_catagory Veg_Non  \\\n",
       "count                         1951     1751        1815         1181    1951   \n",
       "unique                        1278      211        1286           16       2   \n",
       "top     Red Rice Vermicelli Kheer      rice       Sweet     desserts     veg   \n",
       "freq                             7      121          16          156    1646   \n",
       "mean                           NaN      NaN         NaN          NaN     NaN   \n",
       "std                            NaN      NaN         NaN          NaN     NaN   \n",
       "min                            NaN      NaN         NaN          NaN     NaN   \n",
       "25%                            NaN      NaN         NaN          NaN     NaN   \n",
       "50%                            NaN      NaN         NaN          NaN     NaN   \n",
       "75%                            NaN      NaN         NaN          NaN     NaN   \n",
       "max                            NaN      NaN         NaN          NaN     NaN   \n",
       "\n",
       "             Review Nutrient        Price  \n",
       "count   1951.000000     1174  1951.000000  \n",
       "unique          NaN       19          NaN  \n",
       "top             NaN     Iron          NaN  \n",
       "freq            NaN      242          NaN  \n",
       "mean       3.062532      NaN   448.275243  \n",
       "std        1.421875      NaN   146.468201  \n",
       "min        1.000000      NaN   200.000000  \n",
       "25%        2.000000      NaN   320.000000  \n",
       "50%        3.000000      NaN   455.000000  \n",
       "75%        4.000000      NaN   575.000000  \n",
       "max        5.000000      NaN   695.000000  "
      ]
     },
     "execution_count": 38,
     "metadata": {},
     "output_type": "execute_result"
    }
   ],
   "source": [
    "df.describe(include='all')"
   ]
  },
  {
   "cell_type": "markdown",
   "metadata": {},
   "source": [
    "lets save our data"
   ]
  },
  {
   "cell_type": "code",
   "execution_count": null,
   "metadata": {},
   "outputs": [],
   "source": []
  },
  {
   "cell_type": "code",
   "execution_count": null,
   "metadata": {},
   "outputs": [],
   "source": []
  },
  {
   "cell_type": "code",
   "execution_count": 39,
   "metadata": {},
   "outputs": [
    {
     "data": {
      "text/plain": [
       "(777, 8)"
      ]
     },
     "execution_count": 39,
     "metadata": {},
     "output_type": "execute_result"
    }
   ],
   "source": [
    "df[df.Nutrient.isnull()].shape"
   ]
  },
  {
   "cell_type": "code",
   "execution_count": 40,
   "metadata": {},
   "outputs": [],
   "source": [
    "df = df[df['Nutrient'].notna()]\n",
    "df = df[df['description'].notna()]\n",
    "\n",
    "description = []\n",
    "for i in df.description:\n",
    "    description.append(i[16:])\n",
    "df['description'] = description"
   ]
  },
  {
   "cell_type": "code",
   "execution_count": 41,
   "metadata": {},
   "outputs": [],
   "source": [
    "name = []\n",
    "for i in df.Name:\n",
    "    name.append(i.strip())\n",
    "df['Name'] = name"
   ]
  },
  {
   "cell_type": "code",
   "execution_count": 42,
   "metadata": {},
   "outputs": [
    {
     "name": "stdout",
     "output_type": "stream",
     "text": [
      "<class 'pandas.core.frame.DataFrame'>\n",
      "Int64Index: 1108 entries, 0 to 1947\n",
      "Data columns (total 8 columns):\n",
      "Name            1108 non-null object\n",
      "catagory        1091 non-null object\n",
      "description     1108 non-null object\n",
      "sub_catagory    709 non-null object\n",
      "Veg_Non         1108 non-null object\n",
      "Review          1108 non-null int64\n",
      "Nutrient        1108 non-null object\n",
      "Price           1108 non-null int64\n",
      "dtypes: int64(2), object(6)\n",
      "memory usage: 77.9+ KB\n"
     ]
    }
   ],
   "source": [
    "df.info()"
   ]
  },
  {
   "cell_type": "code",
   "execution_count": 43,
   "metadata": {},
   "outputs": [],
   "source": [
    "df.to_csv('dataset.csv')"
   ]
  },
  {
   "cell_type": "code",
   "execution_count": 44,
   "metadata": {},
   "outputs": [
    {
     "data": {
      "text/html": [
       "<div>\n",
       "<style scoped>\n",
       "    .dataframe tbody tr th:only-of-type {\n",
       "        vertical-align: middle;\n",
       "    }\n",
       "\n",
       "    .dataframe tbody tr th {\n",
       "        vertical-align: top;\n",
       "    }\n",
       "\n",
       "    .dataframe thead th {\n",
       "        text-align: right;\n",
       "    }\n",
       "</style>\n",
       "<table border=\"1\" class=\"dataframe\">\n",
       "  <thead>\n",
       "    <tr style=\"text-align: right;\">\n",
       "      <th></th>\n",
       "      <th>Name</th>\n",
       "      <th>catagory</th>\n",
       "      <th>description</th>\n",
       "      <th>sub_catagory</th>\n",
       "      <th>Veg_Non</th>\n",
       "      <th>Review</th>\n",
       "      <th>Nutrient</th>\n",
       "      <th>Price</th>\n",
       "    </tr>\n",
       "  </thead>\n",
       "  <tbody>\n",
       "    <tr>\n",
       "      <th>0</th>\n",
       "      <td>Summer Squash Salad</td>\n",
       "      <td>salad</td>\n",
       "      <td>white balsamic vinegar, lemon juice, lemon ri...</td>\n",
       "      <td>healthy</td>\n",
       "      <td>veg</td>\n",
       "      <td>5</td>\n",
       "      <td>Fiber</td>\n",
       "      <td>230</td>\n",
       "    </tr>\n",
       "    <tr>\n",
       "      <th>1</th>\n",
       "      <td>Chicken Minced Salad</td>\n",
       "      <td>salad</td>\n",
       "      <td>olive oil, chicken mince, garlic (minced), on...</td>\n",
       "      <td>healthy</td>\n",
       "      <td>non-veg</td>\n",
       "      <td>3</td>\n",
       "      <td>Fiber</td>\n",
       "      <td>265</td>\n",
       "    </tr>\n",
       "    <tr>\n",
       "      <th>2</th>\n",
       "      <td>Sweet Chilli Almonds</td>\n",
       "      <td>chilli</td>\n",
       "      <td>almonds whole, egg white, curry leaves, salt,...</td>\n",
       "      <td>healthy</td>\n",
       "      <td>veg</td>\n",
       "      <td>2</td>\n",
       "      <td>Vitamin_A</td>\n",
       "      <td>200</td>\n",
       "    </tr>\n",
       "    <tr>\n",
       "      <th>3</th>\n",
       "      <td>Tricolour Salad</td>\n",
       "      <td>salad</td>\n",
       "      <td>vinegar, honey/sugar, soy sauce, salt, garlic...</td>\n",
       "      <td>healthy</td>\n",
       "      <td>veg</td>\n",
       "      <td>2</td>\n",
       "      <td>Fiber</td>\n",
       "      <td>220</td>\n",
       "    </tr>\n",
       "    <tr>\n",
       "      <th>7</th>\n",
       "      <td>Gluten-Free Christmas Cake</td>\n",
       "      <td>cake</td>\n",
       "      <td>Christmas dry fruits (pre-soaked), orange zes...</td>\n",
       "      <td>healthy</td>\n",
       "      <td>veg</td>\n",
       "      <td>3</td>\n",
       "      <td>Vitamin_A</td>\n",
       "      <td>270</td>\n",
       "    </tr>\n",
       "  </tbody>\n",
       "</table>\n",
       "</div>"
      ],
      "text/plain": [
       "                         Name catagory  \\\n",
       "0         Summer Squash Salad    salad   \n",
       "1        Chicken Minced Salad    salad   \n",
       "2        Sweet Chilli Almonds   chilli   \n",
       "3             Tricolour Salad    salad   \n",
       "7  Gluten-Free Christmas Cake     cake   \n",
       "\n",
       "                                         description sub_catagory  Veg_Non  \\\n",
       "0   white balsamic vinegar, lemon juice, lemon ri...      healthy      veg   \n",
       "1   olive oil, chicken mince, garlic (minced), on...      healthy  non-veg   \n",
       "2   almonds whole, egg white, curry leaves, salt,...      healthy      veg   \n",
       "3   vinegar, honey/sugar, soy sauce, salt, garlic...      healthy      veg   \n",
       "7   Christmas dry fruits (pre-soaked), orange zes...      healthy      veg   \n",
       "\n",
       "   Review   Nutrient  Price  \n",
       "0       5      Fiber    230  \n",
       "1       3      Fiber    265  \n",
       "2       2  Vitamin_A    200  \n",
       "3       2      Fiber    220  \n",
       "7       3  Vitamin_A    270  "
      ]
     },
     "execution_count": 44,
     "metadata": {},
     "output_type": "execute_result"
    }
   ],
   "source": [
    "df.head()"
   ]
  },
  {
   "cell_type": "code",
   "execution_count": null,
   "metadata": {},
   "outputs": [],
   "source": [
    "\n"
   ]
  },
  {
   "cell_type": "code",
   "execution_count": null,
   "metadata": {},
   "outputs": [],
   "source": []
  },
  {
   "cell_type": "code",
   "execution_count": null,
   "metadata": {},
   "outputs": [],
   "source": []
  },
  {
   "cell_type": "code",
   "execution_count": null,
   "metadata": {},
   "outputs": [],
   "source": []
  },
  {
   "cell_type": "code",
   "execution_count": null,
   "metadata": {},
   "outputs": [],
   "source": []
  }
 ],
 "metadata": {
  "kernelspec": {
   "display_name": "Python 3",
   "language": "python",
   "name": "python3"
  },
  "language_info": {
   "codemirror_mode": {
    "name": "ipython",
    "version": 3
   },
   "file_extension": ".py",
   "mimetype": "text/x-python",
   "name": "python",
   "nbconvert_exporter": "python",
   "pygments_lexer": "ipython3",
   "version": "3.7.3"
  }
 },
 "nbformat": 4,
 "nbformat_minor": 2
}
